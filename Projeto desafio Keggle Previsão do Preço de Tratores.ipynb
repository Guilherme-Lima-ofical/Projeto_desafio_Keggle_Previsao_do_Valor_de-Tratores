{
 "cells": [
  {
   "cell_type": "markdown",
   "id": "d2980c87",
   "metadata": {},
   "source": [
    "# Projeto desafio Keggle Previsão do Preço de Tratores🚜\n",
    "###  <font color = '#FF8C00' > *Resolvendo um desafio do Keggle*\n",
    "   *by [Guilherme Lima](https://www.linkedin.com/in/gui-lima-oficial/)*"
   ]
  },
  {
   "cell_type": "markdown",
   "id": "a49387a8",
   "metadata": {},
   "source": [
    "## Contexto:"
   ]
  },
  {
   "cell_type": "markdown",
   "id": "7140d40f",
   "metadata": {},
   "source": [
    "Esse projeto veio de um desafio do keggle, pelo que entendi uma empresa a 9 anos atrás, abriu uma disputa de quem fazia o melhor modelo de previsão dos preçõs dos tratores, para os ganhadores(1,2,3 lugar) havia um prémio em dinheiro, pena que eu não pude participar... mais informações podem ser vistas na própria pagina do Keggle: https://www.kaggle.com/c/bluebook-for-bulldozers/overview"
   ]
  },
  {
   "cell_type": "markdown",
   "id": "ad09410a",
   "metadata": {},
   "source": [
    "## Objetivo do projeto:"
   ]
  },
  {
   "cell_type": "markdown",
   "id": "f0b28e1e",
   "metadata": {},
   "source": [
    "Meu objetivo vai ser o de treinar mesmo, pois como eu ja comentei acima, esse case já foi resolvido e já deram os premios,(que pena) então o intuito vai ser criar um modelo bom, que tenha um desempenho na métrica de avaliação principal da competição que e a metrica de ( RMSLE mean_squared_log_error), então o meu objetivo vai ser ter um bom RMSLE, e vou fazer tudo aquilo que eu acreditar ser relevante para chegar nesse objetivo, sempre tendo em mente o objetivo, pois como e um projeto grande, vamos ter muitas colunas e muitas linhas, então todas as minhas decisões vao impactar de alguma forma algo no final do projeto, então todas as minhas decisões não vao ser tomadas atoa ou sem base nenhuma, eu vou me certificar de que voce que está lendo agora, entenda o por que eu fiz aquilo e não fiz outra coisa."
   ]
  },
  {
   "cell_type": "markdown",
   "id": "948e4bce",
   "metadata": {},
   "source": [
    "## Fonte de dados:"
   ]
  },
  {
   "cell_type": "markdown",
   "id": "e8638f3f",
   "metadata": {},
   "source": [
    "Como eu já comentei esse projeto foi tirado de um desafio do keggle, então todos os seus dados, dicionario, tudo está disponivel para downlaord, neste link: https://www.kaggle.com/c/bluebook-for-bulldozers/data"
   ]
  },
  {
   "cell_type": "markdown",
   "id": "55490d62",
   "metadata": {},
   "source": [
    "---"
   ]
  },
  {
   "cell_type": "markdown",
   "id": "137c28c4",
   "metadata": {},
   "source": [
    "## Metodologia que vamos seguir:"
   ]
  },
  {
   "cell_type": "markdown",
   "id": "48778d65",
   "metadata": {},
   "source": [
    "### Etapas do projeto:"
   ]
  },
  {
   "cell_type": "markdown",
   "id": "43ee9644",
   "metadata": {},
   "source": [
    "#### Etapa 1: Definição do problema\n"
   ]
  },
  {
   "cell_type": "markdown",
   "id": "4a776016",
   "metadata": {},
   "source": [
    "Essa é a etapa principal de qualquer projeto, pois se voce não consegue entender bem o objetivo daquilo que voce está desenvolvendo, voce acaba por não tomar boas decisões, pois não tem em mente o objetivo claro de onde voce quer chegar."
   ]
  },
  {
   "cell_type": "markdown",
   "id": "49eef11b",
   "metadata": {},
   "source": [
    "#### Etapa 2: Importar as bibliotecas Necessarias para o projeto"
   ]
  },
  {
   "cell_type": "markdown",
   "id": "4a4678d0",
   "metadata": {},
   "source": [
    "Outra etapa importante, pois não precisamos recriar a roda, claro que usamos muita lógica aqui para resolver nosso problema, porém não precisamos codar tudo do zero, tem muita coisa pronta."
   ]
  },
  {
   "cell_type": "markdown",
   "id": "684351cc",
   "metadata": {},
   "source": [
    "#### Etapa 3: Extração dos dados"
   ]
  },
  {
   "cell_type": "markdown",
   "id": "b4cf61f2",
   "metadata": {},
   "source": [
    "Nessa etapa que vamos usar as bibliotecas acima, pois com elas, podemos carregar nossos dados para o python, e assim conseguir desenrolar nossas analises e tratamentos."
   ]
  },
  {
   "cell_type": "markdown",
   "id": "ffb809f4",
   "metadata": {},
   "source": [
    "#### Etapa 4: Tratamento dos dados"
   ]
  },
  {
   "cell_type": "markdown",
   "id": "585815b4",
   "metadata": {},
   "source": [
    "Depois da etapa de definição do objetivo, eu acredito que essa e a etapa mais importante para qualquer projeto de analise de dados, pois sem ela voce acaba trabalhando com valores nulos, valores inf e outros tipo de valores que te atrapalham muito na hora de explorar os dados, então já deixa a base de dados limpa e organizada, permite que possamos ter uma maior facilidade na hora de explorar nossos dados, essa também e a etapa que eu faço feature engineering que e um nome bonito para \"criar novas colunas\"."
   ]
  },
  {
   "cell_type": "markdown",
   "id": "b68a2007",
   "metadata": {},
   "source": [
    "#### Etapa 5: Exploração dos dados."
   ]
  },
  {
   "cell_type": "markdown",
   "id": "a6feeef9",
   "metadata": {},
   "source": [
    "Até esse ponto e onde podemos dizer que o analista de dados vai, pois nessa etapa de exploração e a etapa que muitas das nossas perguntas vão ser respondidas e dependendo do problema, já obtemos a resposta aqui, sem a necessidade da criação do modelo, por isso essa e uma etapa muito importante, pois nela que vamos responder perguntas tipo, \"Qual e a distribuição de tratores fabricados ao longo dos anos\", coisas do tipo, se fosse um problema de analise de dados, nos pararíamos aqui."
   ]
  },
  {
   "cell_type": "markdown",
   "id": "de43acf0",
   "metadata": {},
   "source": [
    "#### Etapa 6: Aplicação e Avaliação do Modelo (ML)"
   ]
  },
  {
   "cell_type": "markdown",
   "id": "616a18ce",
   "metadata": {},
   "source": [
    "E aqui que vamos responder nossa pergunta de previsão, como a nossa pergunta e algo mais pra frente pois estamos trabalhando com time series, somente a exploração de dados não seria o suficiente para sanar nossa duvida, por causa disso que nessa etapa eu vou usar os principais modelos de ML, para conseguir através deles, ter uma boa previsão dos meus preços."
   ]
  },
  {
   "cell_type": "markdown",
   "id": "ceec38fd",
   "metadata": {},
   "source": [
    "#### Etapa 7: Melhorando o modelo"
   ]
  },
  {
   "cell_type": "markdown",
   "id": "5c734d33",
   "metadata": {},
   "source": [
    "Outra etapa com uma extrema importancia, pois nela que vamos ver as principais informações que o modelo considera relevante e outra coisa melhorar, eu tenho um surpresa nessa etapa, que voce so vai ver no final do projeto :)"
   ]
  },
  {
   "cell_type": "markdown",
   "id": "61fff1a7",
   "metadata": {},
   "source": [
    "#### Etapa 8: Conclusão"
   ]
  },
  {
   "cell_type": "markdown",
   "id": "d5d81f5d",
   "metadata": {},
   "source": [
    "Etapa meio que desprezada, mas que eu gosto muito, de conclui meu trabalho, fazendo alguma consideração ou levantar alguma palta, gosto muito dessa etapa também, mesmo que obviamente não tenha relação com a previsão em si do meu modelo."
   ]
  },
  {
   "cell_type": "markdown",
   "id": "1264640a",
   "metadata": {},
   "source": [
    "---"
   ]
  },
  {
   "cell_type": "markdown",
   "id": "fcca2c66",
   "metadata": {},
   "source": [
    "## Iniciando o projeto"
   ]
  },
  {
   "cell_type": "markdown",
   "id": "0e663a57",
   "metadata": {},
   "source": [
    "#### Etapa 2: Importar as bibliotecas Necessarias para o projeto"
   ]
  },
  {
   "cell_type": "code",
   "execution_count": 1,
   "id": "e9d426c0",
   "metadata": {},
   "outputs": [],
   "source": [
    "#Importando as bibliotecas necessarias\n",
    "import pandas as pd\n",
    "import numpy as np\n",
    "import matplotlib.pyplot as plt\n",
    "import seaborn as sns\n",
    "#---\n",
    "#Biblioteca de avaliação\n",
    "from sklearn.metrics import r2_score,mean_squared_error,mean_squared_log_error\n",
    "#---\n",
    "\n",
    "#Bibliotecas de Machine Learning\n",
    "from sklearn.model_selection import train_test_split\n",
    "from sklearn import metrics\n",
    "from sklearn.tree import DecisionTreeRegressor\n",
    "from sklearn.ensemble import RandomForestRegressor, ExtraTreesRegressor\n",
    "from sklearn.svm import SVR\n",
    "\n",
    "#---\n",
    "#Filtrar avisos desnecessários\n",
    "import warnings\n",
    "warnings.filterwarnings('ignore')\n",
    "\n",
    "#---\n",
    "#SETS\n",
    "%matplotlib inline\n",
    "plt.style.use(\"dark_background\")"
   ]
  },
  {
   "cell_type": "markdown",
   "id": "120790a0",
   "metadata": {},
   "source": [
    "---"
   ]
  },
  {
   "cell_type": "markdown",
   "id": "756ed3a2",
   "metadata": {},
   "source": [
    "#### Etapa 3: Extração dos dados"
   ]
  },
  {
   "cell_type": "code",
   "execution_count": 2,
   "id": "a1126196",
   "metadata": {},
   "outputs": [
    {
     "data": {
      "text/html": [
       "<div>\n",
       "<style scoped>\n",
       "    .dataframe tbody tr th:only-of-type {\n",
       "        vertical-align: middle;\n",
       "    }\n",
       "\n",
       "    .dataframe tbody tr th {\n",
       "        vertical-align: top;\n",
       "    }\n",
       "\n",
       "    .dataframe thead th {\n",
       "        text-align: right;\n",
       "    }\n",
       "</style>\n",
       "<table border=\"1\" class=\"dataframe\">\n",
       "  <thead>\n",
       "    <tr style=\"text-align: right;\">\n",
       "      <th></th>\n",
       "      <th>SalesID</th>\n",
       "      <th>SalePrice</th>\n",
       "      <th>MachineID</th>\n",
       "      <th>ModelID</th>\n",
       "      <th>datasource</th>\n",
       "      <th>auctioneerID</th>\n",
       "      <th>YearMade</th>\n",
       "      <th>MachineHoursCurrentMeter</th>\n",
       "      <th>UsageBand</th>\n",
       "      <th>saledate</th>\n",
       "      <th>...</th>\n",
       "      <th>Undercarriage_Pad_Width</th>\n",
       "      <th>Stick_Length</th>\n",
       "      <th>Thumb</th>\n",
       "      <th>Pattern_Changer</th>\n",
       "      <th>Grouser_Type</th>\n",
       "      <th>Backhoe_Mounting</th>\n",
       "      <th>Blade_Type</th>\n",
       "      <th>Travel_Controls</th>\n",
       "      <th>Differential_Type</th>\n",
       "      <th>Steering_Controls</th>\n",
       "    </tr>\n",
       "  </thead>\n",
       "  <tbody>\n",
       "    <tr>\n",
       "      <th>0</th>\n",
       "      <td>1139246</td>\n",
       "      <td>66000.0</td>\n",
       "      <td>999089</td>\n",
       "      <td>3157</td>\n",
       "      <td>121</td>\n",
       "      <td>3.0</td>\n",
       "      <td>2004</td>\n",
       "      <td>68.0</td>\n",
       "      <td>Low</td>\n",
       "      <td>2006-11-16</td>\n",
       "      <td>...</td>\n",
       "      <td>NaN</td>\n",
       "      <td>NaN</td>\n",
       "      <td>NaN</td>\n",
       "      <td>NaN</td>\n",
       "      <td>NaN</td>\n",
       "      <td>NaN</td>\n",
       "      <td>NaN</td>\n",
       "      <td>NaN</td>\n",
       "      <td>Standard</td>\n",
       "      <td>Conventional</td>\n",
       "    </tr>\n",
       "    <tr>\n",
       "      <th>1</th>\n",
       "      <td>1139248</td>\n",
       "      <td>57000.0</td>\n",
       "      <td>117657</td>\n",
       "      <td>77</td>\n",
       "      <td>121</td>\n",
       "      <td>3.0</td>\n",
       "      <td>1996</td>\n",
       "      <td>4640.0</td>\n",
       "      <td>Low</td>\n",
       "      <td>2004-03-26</td>\n",
       "      <td>...</td>\n",
       "      <td>NaN</td>\n",
       "      <td>NaN</td>\n",
       "      <td>NaN</td>\n",
       "      <td>NaN</td>\n",
       "      <td>NaN</td>\n",
       "      <td>NaN</td>\n",
       "      <td>NaN</td>\n",
       "      <td>NaN</td>\n",
       "      <td>Standard</td>\n",
       "      <td>Conventional</td>\n",
       "    </tr>\n",
       "    <tr>\n",
       "      <th>2</th>\n",
       "      <td>1139249</td>\n",
       "      <td>10000.0</td>\n",
       "      <td>434808</td>\n",
       "      <td>7009</td>\n",
       "      <td>121</td>\n",
       "      <td>3.0</td>\n",
       "      <td>2001</td>\n",
       "      <td>2838.0</td>\n",
       "      <td>High</td>\n",
       "      <td>2004-02-26</td>\n",
       "      <td>...</td>\n",
       "      <td>NaN</td>\n",
       "      <td>NaN</td>\n",
       "      <td>NaN</td>\n",
       "      <td>NaN</td>\n",
       "      <td>NaN</td>\n",
       "      <td>NaN</td>\n",
       "      <td>NaN</td>\n",
       "      <td>NaN</td>\n",
       "      <td>NaN</td>\n",
       "      <td>NaN</td>\n",
       "    </tr>\n",
       "    <tr>\n",
       "      <th>3</th>\n",
       "      <td>1139251</td>\n",
       "      <td>38500.0</td>\n",
       "      <td>1026470</td>\n",
       "      <td>332</td>\n",
       "      <td>121</td>\n",
       "      <td>3.0</td>\n",
       "      <td>2001</td>\n",
       "      <td>3486.0</td>\n",
       "      <td>High</td>\n",
       "      <td>2011-05-19</td>\n",
       "      <td>...</td>\n",
       "      <td>NaN</td>\n",
       "      <td>NaN</td>\n",
       "      <td>NaN</td>\n",
       "      <td>NaN</td>\n",
       "      <td>NaN</td>\n",
       "      <td>NaN</td>\n",
       "      <td>NaN</td>\n",
       "      <td>NaN</td>\n",
       "      <td>NaN</td>\n",
       "      <td>NaN</td>\n",
       "    </tr>\n",
       "    <tr>\n",
       "      <th>4</th>\n",
       "      <td>1139253</td>\n",
       "      <td>11000.0</td>\n",
       "      <td>1057373</td>\n",
       "      <td>17311</td>\n",
       "      <td>121</td>\n",
       "      <td>3.0</td>\n",
       "      <td>2007</td>\n",
       "      <td>722.0</td>\n",
       "      <td>Medium</td>\n",
       "      <td>2009-07-23</td>\n",
       "      <td>...</td>\n",
       "      <td>NaN</td>\n",
       "      <td>NaN</td>\n",
       "      <td>NaN</td>\n",
       "      <td>NaN</td>\n",
       "      <td>NaN</td>\n",
       "      <td>NaN</td>\n",
       "      <td>NaN</td>\n",
       "      <td>NaN</td>\n",
       "      <td>NaN</td>\n",
       "      <td>NaN</td>\n",
       "    </tr>\n",
       "  </tbody>\n",
       "</table>\n",
       "<p>5 rows × 53 columns</p>\n",
       "</div>"
      ],
      "text/plain": [
       "   SalesID  SalePrice  MachineID  ModelID  datasource  auctioneerID  YearMade  \\\n",
       "0  1139246    66000.0     999089     3157         121           3.0      2004   \n",
       "1  1139248    57000.0     117657       77         121           3.0      1996   \n",
       "2  1139249    10000.0     434808     7009         121           3.0      2001   \n",
       "3  1139251    38500.0    1026470      332         121           3.0      2001   \n",
       "4  1139253    11000.0    1057373    17311         121           3.0      2007   \n",
       "\n",
       "   MachineHoursCurrentMeter UsageBand   saledate  ... Undercarriage_Pad_Width  \\\n",
       "0                      68.0       Low 2006-11-16  ...                     NaN   \n",
       "1                    4640.0       Low 2004-03-26  ...                     NaN   \n",
       "2                    2838.0      High 2004-02-26  ...                     NaN   \n",
       "3                    3486.0      High 2011-05-19  ...                     NaN   \n",
       "4                     722.0    Medium 2009-07-23  ...                     NaN   \n",
       "\n",
       "  Stick_Length Thumb Pattern_Changer Grouser_Type Backhoe_Mounting Blade_Type  \\\n",
       "0          NaN   NaN             NaN          NaN              NaN        NaN   \n",
       "1          NaN   NaN             NaN          NaN              NaN        NaN   \n",
       "2          NaN   NaN             NaN          NaN              NaN        NaN   \n",
       "3          NaN   NaN             NaN          NaN              NaN        NaN   \n",
       "4          NaN   NaN             NaN          NaN              NaN        NaN   \n",
       "\n",
       "  Travel_Controls Differential_Type Steering_Controls  \n",
       "0             NaN          Standard      Conventional  \n",
       "1             NaN          Standard      Conventional  \n",
       "2             NaN               NaN               NaN  \n",
       "3             NaN               NaN               NaN  \n",
       "4             NaN               NaN               NaN  \n",
       "\n",
       "[5 rows x 53 columns]"
      ]
     },
     "execution_count": 2,
     "metadata": {},
     "output_type": "execute_result"
    }
   ],
   "source": [
    "#Lendo minha base de dados\n",
    "df = pd.read_csv('TrainAndValid.csv',parse_dates=['saledate'])\n",
    "\n",
    "#Exibindo as primeiras entradas\n",
    "df.head()"
   ]
  },
  {
   "cell_type": "markdown",
   "id": "6fb56905",
   "metadata": {},
   "source": [
    "- Como podemos notar nas primeiras entradas, existem valores nulos que precisamos tratar, então vamos ver as informações gerais e confirmar a quantidade de valores nulos para descidimos como vamos lidar com eles."
   ]
  },
  {
   "cell_type": "markdown",
   "id": "9f93f68f",
   "metadata": {},
   "source": [
    "---"
   ]
  },
  {
   "cell_type": "markdown",
   "id": "8e08b4b9",
   "metadata": {},
   "source": [
    "#### Etapa 4: Tratamento dos dados"
   ]
  },
  {
   "cell_type": "code",
   "execution_count": 3,
   "id": "00431fec",
   "metadata": {},
   "outputs": [
    {
     "name": "stdout",
     "output_type": "stream",
     "text": [
      "<class 'pandas.core.frame.DataFrame'>\n",
      "RangeIndex: 412698 entries, 0 to 412697\n",
      "Data columns (total 53 columns):\n",
      " #   Column                    Non-Null Count   Dtype         \n",
      "---  ------                    --------------   -----         \n",
      " 0   SalesID                   412698 non-null  int64         \n",
      " 1   SalePrice                 412698 non-null  float64       \n",
      " 2   MachineID                 412698 non-null  int64         \n",
      " 3   ModelID                   412698 non-null  int64         \n",
      " 4   datasource                412698 non-null  int64         \n",
      " 5   auctioneerID              392562 non-null  float64       \n",
      " 6   YearMade                  412698 non-null  int64         \n",
      " 7   MachineHoursCurrentMeter  147504 non-null  float64       \n",
      " 8   UsageBand                 73670 non-null   object        \n",
      " 9   saledate                  412698 non-null  datetime64[ns]\n",
      " 10  fiModelDesc               412698 non-null  object        \n",
      " 11  fiBaseModel               412698 non-null  object        \n",
      " 12  fiSecondaryDesc           271971 non-null  object        \n",
      " 13  fiModelSeries             58667 non-null   object        \n",
      " 14  fiModelDescriptor         74816 non-null   object        \n",
      " 15  ProductSize               196093 non-null  object        \n",
      " 16  fiProductClassDesc        412698 non-null  object        \n",
      " 17  state                     412698 non-null  object        \n",
      " 18  ProductGroup              412698 non-null  object        \n",
      " 19  ProductGroupDesc          412698 non-null  object        \n",
      " 20  Drive_System              107087 non-null  object        \n",
      " 21  Enclosure                 412364 non-null  object        \n",
      " 22  Forks                     197715 non-null  object        \n",
      " 23  Pad_Type                  81096 non-null   object        \n",
      " 24  Ride_Control              152728 non-null  object        \n",
      " 25  Stick                     81096 non-null   object        \n",
      " 26  Transmission              188007 non-null  object        \n",
      " 27  Turbocharged              81096 non-null   object        \n",
      " 28  Blade_Extension           25983 non-null   object        \n",
      " 29  Blade_Width               25983 non-null   object        \n",
      " 30  Enclosure_Type            25983 non-null   object        \n",
      " 31  Engine_Horsepower         25983 non-null   object        \n",
      " 32  Hydraulics                330133 non-null  object        \n",
      " 33  Pushblock                 25983 non-null   object        \n",
      " 34  Ripper                    106945 non-null  object        \n",
      " 35  Scarifier                 25994 non-null   object        \n",
      " 36  Tip_Control               25983 non-null   object        \n",
      " 37  Tire_Size                 97638 non-null   object        \n",
      " 38  Coupler                   220679 non-null  object        \n",
      " 39  Coupler_System            44974 non-null   object        \n",
      " 40  Grouser_Tracks            44875 non-null   object        \n",
      " 41  Hydraulics_Flow           44875 non-null   object        \n",
      " 42  Track_Type                102193 non-null  object        \n",
      " 43  Undercarriage_Pad_Width   102916 non-null  object        \n",
      " 44  Stick_Length              102261 non-null  object        \n",
      " 45  Thumb                     102332 non-null  object        \n",
      " 46  Pattern_Changer           102261 non-null  object        \n",
      " 47  Grouser_Type              102193 non-null  object        \n",
      " 48  Backhoe_Mounting          80712 non-null   object        \n",
      " 49  Blade_Type                81875 non-null   object        \n",
      " 50  Travel_Controls           81877 non-null   object        \n",
      " 51  Differential_Type         71564 non-null   object        \n",
      " 52  Steering_Controls         71522 non-null   object        \n",
      "dtypes: datetime64[ns](1), float64(3), int64(5), object(44)\n",
      "memory usage: 166.9+ MB\n"
     ]
    }
   ],
   "source": [
    "#Informações gerais dos dados\n",
    "df.info()"
   ]
  },
  {
   "cell_type": "code",
   "execution_count": 4,
   "id": "83dc5506",
   "metadata": {},
   "outputs": [
    {
     "data": {
      "text/plain": [
       "SalesID                          0\n",
       "SalePrice                        0\n",
       "MachineID                        0\n",
       "ModelID                          0\n",
       "datasource                       0\n",
       "auctioneerID                 20136\n",
       "YearMade                         0\n",
       "MachineHoursCurrentMeter    265194\n",
       "UsageBand                   339028\n",
       "saledate                         0\n",
       "fiModelDesc                      0\n",
       "fiBaseModel                      0\n",
       "fiSecondaryDesc             140727\n",
       "fiModelSeries               354031\n",
       "fiModelDescriptor           337882\n",
       "ProductSize                 216605\n",
       "fiProductClassDesc               0\n",
       "state                            0\n",
       "ProductGroup                     0\n",
       "ProductGroupDesc                 0\n",
       "Drive_System                305611\n",
       "Enclosure                      334\n",
       "Forks                       214983\n",
       "Pad_Type                    331602\n",
       "Ride_Control                259970\n",
       "Stick                       331602\n",
       "Transmission                224691\n",
       "Turbocharged                331602\n",
       "Blade_Extension             386715\n",
       "Blade_Width                 386715\n",
       "Enclosure_Type              386715\n",
       "Engine_Horsepower           386715\n",
       "Hydraulics                   82565\n",
       "Pushblock                   386715\n",
       "Ripper                      305753\n",
       "Scarifier                   386704\n",
       "Tip_Control                 386715\n",
       "Tire_Size                   315060\n",
       "Coupler                     192019\n",
       "Coupler_System              367724\n",
       "Grouser_Tracks              367823\n",
       "Hydraulics_Flow             367823\n",
       "Track_Type                  310505\n",
       "Undercarriage_Pad_Width     309782\n",
       "Stick_Length                310437\n",
       "Thumb                       310366\n",
       "Pattern_Changer             310437\n",
       "Grouser_Type                310505\n",
       "Backhoe_Mounting            331986\n",
       "Blade_Type                  330823\n",
       "Travel_Controls             330821\n",
       "Differential_Type           341134\n",
       "Steering_Controls           341176\n",
       "dtype: int64"
      ]
     },
     "execution_count": 4,
     "metadata": {},
     "output_type": "execute_result"
    }
   ],
   "source": [
    "#Verificando a quantidade de valores nulos\n",
    "df.isnull().sum()"
   ]
  },
  {
   "cell_type": "code",
   "execution_count": 5,
   "id": "3687ce32",
   "metadata": {},
   "outputs": [
    {
     "data": {
      "text/plain": [
       "SalesID                     0.000000\n",
       "SalePrice                   0.000000\n",
       "MachineID                   0.000000\n",
       "ModelID                     0.000000\n",
       "datasource                  0.000000\n",
       "auctioneerID                0.048791\n",
       "YearMade                    0.000000\n",
       "MachineHoursCurrentMeter    0.642586\n",
       "UsageBand                   0.821492\n",
       "saledate                    0.000000\n",
       "fiModelDesc                 0.000000\n",
       "fiBaseModel                 0.000000\n",
       "fiSecondaryDesc             0.340993\n",
       "fiModelSeries               0.857845\n",
       "fiModelDescriptor           0.818715\n",
       "ProductSize                 0.524851\n",
       "fiProductClassDesc          0.000000\n",
       "state                       0.000000\n",
       "ProductGroup                0.000000\n",
       "ProductGroupDesc            0.000000\n",
       "Drive_System                0.740520\n",
       "Enclosure                   0.000809\n",
       "Forks                       0.520921\n",
       "Pad_Type                    0.803498\n",
       "Ride_Control                0.629928\n",
       "Stick                       0.803498\n",
       "Transmission                0.544444\n",
       "Turbocharged                0.803498\n",
       "Blade_Extension             0.937041\n",
       "Blade_Width                 0.937041\n",
       "Enclosure_Type              0.937041\n",
       "Engine_Horsepower           0.937041\n",
       "Hydraulics                  0.200062\n",
       "Pushblock                   0.937041\n",
       "Ripper                      0.740864\n",
       "Scarifier                   0.937014\n",
       "Tip_Control                 0.937041\n",
       "Tire_Size                   0.763415\n",
       "Coupler                     0.465277\n",
       "Coupler_System              0.891024\n",
       "Grouser_Tracks              0.891264\n",
       "Hydraulics_Flow             0.891264\n",
       "Track_Type                  0.752378\n",
       "Undercarriage_Pad_Width     0.750626\n",
       "Stick_Length                0.752213\n",
       "Thumb                       0.752041\n",
       "Pattern_Changer             0.752213\n",
       "Grouser_Type                0.752378\n",
       "Backhoe_Mounting            0.804428\n",
       "Blade_Type                  0.801610\n",
       "Travel_Controls             0.801606\n",
       "Differential_Type           0.826595\n",
       "Steering_Controls           0.826697\n",
       "dtype: float64"
      ]
     },
     "execution_count": 5,
     "metadata": {},
     "output_type": "execute_result"
    }
   ],
   "source": [
    "#Vamos ver a porcentagem de valores nulos\n",
    "df.isnull().sum()/df.shape[0]"
   ]
  },
  {
   "cell_type": "markdown",
   "id": "a3fb03e1",
   "metadata": {},
   "source": [
    "##### Existem dados que tem mais de 80% das informações vazias, ou seja, não é algo que possa ser tratado já que a esmagadora maioria das informações é vazia, então não faz sentido fazer algum tratamento de preenchimento com colunas tão vazias assim, então nesse caso, eu vou escolher remover as colunas que tem mais de 300 mil de valores nulos."
   ]
  },
  {
   "cell_type": "code",
   "execution_count": 6,
   "id": "36996a14",
   "metadata": {},
   "outputs": [
    {
     "name": "stdout",
     "output_type": "stream",
     "text": [
      "SalesID                          0\n",
      "SalePrice                        0\n",
      "MachineID                        0\n",
      "ModelID                          0\n",
      "datasource                       0\n",
      "auctioneerID                 20136\n",
      "YearMade                         0\n",
      "MachineHoursCurrentMeter    265194\n",
      "saledate                         0\n",
      "fiModelDesc                      0\n",
      "fiBaseModel                      0\n",
      "fiSecondaryDesc             140727\n",
      "ProductSize                 216605\n",
      "fiProductClassDesc               0\n",
      "state                            0\n",
      "ProductGroup                     0\n",
      "ProductGroupDesc                 0\n",
      "Enclosure                      334\n",
      "Forks                       214983\n",
      "Ride_Control                259970\n",
      "Transmission                224691\n",
      "Hydraulics                   82565\n",
      "Coupler                     192019\n",
      "dtype: int64\n",
      "======================================================================\n",
      "SalesID                     0.000000\n",
      "SalePrice                   0.000000\n",
      "MachineID                   0.000000\n",
      "ModelID                     0.000000\n",
      "datasource                  0.000000\n",
      "auctioneerID                0.048791\n",
      "YearMade                    0.000000\n",
      "MachineHoursCurrentMeter    0.642586\n",
      "saledate                    0.000000\n",
      "fiModelDesc                 0.000000\n",
      "fiBaseModel                 0.000000\n",
      "fiSecondaryDesc             0.340993\n",
      "ProductSize                 0.524851\n",
      "fiProductClassDesc          0.000000\n",
      "state                       0.000000\n",
      "ProductGroup                0.000000\n",
      "ProductGroupDesc            0.000000\n",
      "Enclosure                   0.000809\n",
      "Forks                       0.520921\n",
      "Ride_Control                0.629928\n",
      "Transmission                0.544444\n",
      "Hydraulics                  0.200062\n",
      "Coupler                     0.465277\n",
      "dtype: float64\n"
     ]
    }
   ],
   "source": [
    "#Excluindo as colunas com valores extramemnte nulos\n",
    "for coluna in df:\n",
    "    if df[coluna].isnull().sum() > 300000:\n",
    "        df = df.drop(coluna, axis=1)\n",
    "\n",
    "#Reverificando minhas informações nulas\n",
    "print(df.isnull().sum())\n",
    "\n",
    "print('='*70)\n",
    "\n",
    "#Revendo a porcentagem de valores nulos\n",
    "print(df.isnull().sum()/df.shape[0])"
   ]
  },
  {
   "cell_type": "markdown",
   "id": "eb47119e",
   "metadata": {},
   "source": [
    "- Como podemos ver, ainda temos muitas colunas com valores vazios, mas como não são colunas com valores que não tem mais de 80% dos dados nulos, eu vou passar por uma fase manual de decisão de qual coluna eu vou manter, através dos dicionário das colunas eu vou poder ver qual e a importância de cada uma das colunas, e caso eu ache que alguma das colunas que tem esses valores nulos é realmente necessaria para a minha analise eu vou escolher mante-la."
   ]
  },
  {
   "cell_type": "code",
   "execution_count": 7,
   "id": "b98b0f62",
   "metadata": {},
   "outputs": [],
   "source": [
    "#Pegando as primeiras 1000 mil linhas dos meus dados para analisar coluna por coluna\n",
    "analise_coluna = df[:1000]\n",
    "#Transformando em arquivo excel\n",
    "analise_coluna.to_excel('Analisar_colunas.xlsx',index=False)"
   ]
  },
  {
   "cell_type": "markdown",
   "id": "5b7fb87f",
   "metadata": {},
   "source": [
    "#### Qual sera o criterio de remoção das colunas?\n",
    "- O criteiro vai ser o meu objetivo, com o meu objetivo já especificado e bem claro, eu vou poder remover colunas que eu julgar desnecessária para o projeto, por isso as colunas que vão ser removidas são:"
   ]
  },
  {
   "cell_type": "markdown",
   "id": "25652a61",
   "metadata": {},
   "source": [
    "- Colunas de ID: Id não tem nada haver com meu objetivo, já que ele é um numero aleatório gerado automaticamente, não faz sentido nenhum deixar eles nos meus dados, já que eles só vão atrapalhar."
   ]
  },
  {
   "cell_type": "markdown",
   "id": "1724dc34",
   "metadata": {},
   "source": [
    "- Coluna de MachineHoursCurrentMeter:\n",
    "    - Explicação:\n",
    "        - Essa coluna parece ter uma informação importante que o uso da maquina em horas no momento da venda, sim eu sei que em teoria eu deveria manter, porém, analisando acima podemos ver que essa coluna tem mais de 62% dos seus dados nulos, ou seja, não e uma informação importante na hora da venda e outro ponto e que podemos ver que a maioria dos dados está com o valor 0, ou seja, segundo o dicionário de dados, 0 ou nulo quer dizer que nenhuma informação foi passada, então não tem como preencher uma coluna com mais de 50% dos valores vazios, no futuro, talves eu possa voltar aqui e deixar essa essa coluna para ver como o modelo se comporta mais não acho que ela va impactar em muita coisa, então vou excluir."
   ]
  },
  {
   "cell_type": "markdown",
   "id": "9f48b0f5",
   "metadata": {},
   "source": [
    "- Coluna de Desc: \n",
    "    - Explicação:\n",
    "        - Existem 5 colunas de descrisão nos meus dados, e todas parecem falar da mesma coisa de uma forma diferente então eu vou deixar só a principal, e no futuro eu transformo ela em coluna numerica para poder ser treinada, porém isso e algo que eu também posso reconsiderar no futuro, e excluir todas as colunas, vamos ver o resultado mais pra frente.\n",
    "    - Colunas excluidas: fiBaseModel,fiSecondaryDesc,fiProductClassDesc, ProductGroupDesc"
   ]
  },
  {
   "cell_type": "markdown",
   "id": "0bd8c22a",
   "metadata": {},
   "source": [
    "- Colunas de Forks, Ride_Control e Coupler: A maioria dos dados está como vazio ou não especificado, então não faz sentido mante-la, pois parece que não tem relação com meu objetivo, então vou remover"
   ]
  },
  {
   "cell_type": "code",
   "execution_count": 8,
   "id": "e5e56b47",
   "metadata": {},
   "outputs": [
    {
     "data": {
      "text/plain": [
       "0.0       73834\n",
       "2000.0      124\n",
       "1000.0      117\n",
       "24.0        115\n",
       "1500.0      101\n",
       "Name: MachineHoursCurrentMeter, dtype: int64"
      ]
     },
     "execution_count": 8,
     "metadata": {},
     "output_type": "execute_result"
    }
   ],
   "source": [
    "#Analise da coluna de MachineHoursCurrentMeter, dando embasamento a minha exclusão de uma coluna que talvez seria importante\n",
    "#para o modelo.\n",
    "df['MachineHoursCurrentMeter'].value_counts().iloc[:5]"
   ]
  },
  {
   "cell_type": "code",
   "execution_count": 9,
   "id": "4623ef0f",
   "metadata": {},
   "outputs": [
    {
     "data": {
      "text/plain": [
       "None or Unspecified    183061\n",
       "Yes                     14654\n",
       "Name: Forks, dtype: int64"
      ]
     },
     "execution_count": 9,
     "metadata": {},
     "output_type": "execute_result"
    }
   ],
   "source": [
    "#Analise da coluna de Forks\n",
    "df['Forks'].value_counts()"
   ]
  },
  {
   "cell_type": "code",
   "execution_count": 10,
   "id": "06cdd4a2",
   "metadata": {},
   "outputs": [
    {
     "data": {
      "text/plain": [
       "No                     79389\n",
       "None or Unspecified    64693\n",
       "Yes                     8646\n",
       "Name: Ride_Control, dtype: int64"
      ]
     },
     "execution_count": 10,
     "metadata": {},
     "output_type": "execute_result"
    }
   ],
   "source": [
    "#Analise da coluna de Ride_Control\n",
    "df['Ride_Control'].value_counts()"
   ]
  },
  {
   "cell_type": "code",
   "execution_count": 11,
   "id": "9d683158",
   "metadata": {},
   "outputs": [
    {
     "data": {
      "text/plain": [
       "None or Unspecified    190449\n",
       "Manual                  23918\n",
       "Hydraulic                6312\n",
       "Name: Coupler, dtype: int64"
      ]
     },
     "execution_count": 11,
     "metadata": {},
     "output_type": "execute_result"
    }
   ],
   "source": [
    "#Analise da coluna de Ride_Control\n",
    "df['Coupler'].value_counts()"
   ]
  },
  {
   "cell_type": "markdown",
   "id": "52e79857",
   "metadata": {},
   "source": [
    "#### Depois de uma analise qualitativa, analisando coluna por coluna, tendo em mente o objetivo do meu projeto, que é prever o preço de um Trator🚜, eu descidir manter as seguintes colunas:"
   ]
  },
  {
   "cell_type": "code",
   "execution_count": 12,
   "id": "444b3229",
   "metadata": {},
   "outputs": [
    {
     "data": {
      "text/html": [
       "<div>\n",
       "<style scoped>\n",
       "    .dataframe tbody tr th:only-of-type {\n",
       "        vertical-align: middle;\n",
       "    }\n",
       "\n",
       "    .dataframe tbody tr th {\n",
       "        vertical-align: top;\n",
       "    }\n",
       "\n",
       "    .dataframe thead th {\n",
       "        text-align: right;\n",
       "    }\n",
       "</style>\n",
       "<table border=\"1\" class=\"dataframe\">\n",
       "  <thead>\n",
       "    <tr style=\"text-align: right;\">\n",
       "      <th></th>\n",
       "      <th>SalePrice</th>\n",
       "      <th>YearMade</th>\n",
       "      <th>saledate</th>\n",
       "      <th>fiModelDesc</th>\n",
       "      <th>ProductSize</th>\n",
       "      <th>state</th>\n",
       "      <th>ProductGroup</th>\n",
       "      <th>Enclosure</th>\n",
       "      <th>Transmission</th>\n",
       "      <th>Hydraulics</th>\n",
       "    </tr>\n",
       "  </thead>\n",
       "  <tbody>\n",
       "    <tr>\n",
       "      <th>0</th>\n",
       "      <td>66000.0</td>\n",
       "      <td>2004</td>\n",
       "      <td>2006-11-16</td>\n",
       "      <td>521D</td>\n",
       "      <td>NaN</td>\n",
       "      <td>Alabama</td>\n",
       "      <td>WL</td>\n",
       "      <td>EROPS w AC</td>\n",
       "      <td>NaN</td>\n",
       "      <td>2 Valve</td>\n",
       "    </tr>\n",
       "    <tr>\n",
       "      <th>1</th>\n",
       "      <td>57000.0</td>\n",
       "      <td>1996</td>\n",
       "      <td>2004-03-26</td>\n",
       "      <td>950FII</td>\n",
       "      <td>Medium</td>\n",
       "      <td>North Carolina</td>\n",
       "      <td>WL</td>\n",
       "      <td>EROPS w AC</td>\n",
       "      <td>NaN</td>\n",
       "      <td>2 Valve</td>\n",
       "    </tr>\n",
       "    <tr>\n",
       "      <th>2</th>\n",
       "      <td>10000.0</td>\n",
       "      <td>2001</td>\n",
       "      <td>2004-02-26</td>\n",
       "      <td>226</td>\n",
       "      <td>NaN</td>\n",
       "      <td>New York</td>\n",
       "      <td>SSL</td>\n",
       "      <td>OROPS</td>\n",
       "      <td>NaN</td>\n",
       "      <td>Auxiliary</td>\n",
       "    </tr>\n",
       "    <tr>\n",
       "      <th>3</th>\n",
       "      <td>38500.0</td>\n",
       "      <td>2001</td>\n",
       "      <td>2011-05-19</td>\n",
       "      <td>PC120-6E</td>\n",
       "      <td>Small</td>\n",
       "      <td>Texas</td>\n",
       "      <td>TEX</td>\n",
       "      <td>EROPS w AC</td>\n",
       "      <td>NaN</td>\n",
       "      <td>2 Valve</td>\n",
       "    </tr>\n",
       "    <tr>\n",
       "      <th>4</th>\n",
       "      <td>11000.0</td>\n",
       "      <td>2007</td>\n",
       "      <td>2009-07-23</td>\n",
       "      <td>S175</td>\n",
       "      <td>NaN</td>\n",
       "      <td>New York</td>\n",
       "      <td>SSL</td>\n",
       "      <td>EROPS</td>\n",
       "      <td>NaN</td>\n",
       "      <td>Auxiliary</td>\n",
       "    </tr>\n",
       "  </tbody>\n",
       "</table>\n",
       "</div>"
      ],
      "text/plain": [
       "   SalePrice  YearMade   saledate fiModelDesc ProductSize           state  \\\n",
       "0    66000.0      2004 2006-11-16        521D         NaN         Alabama   \n",
       "1    57000.0      1996 2004-03-26      950FII      Medium  North Carolina   \n",
       "2    10000.0      2001 2004-02-26         226         NaN        New York   \n",
       "3    38500.0      2001 2011-05-19    PC120-6E       Small           Texas   \n",
       "4    11000.0      2007 2009-07-23        S175         NaN        New York   \n",
       "\n",
       "  ProductGroup   Enclosure Transmission Hydraulics  \n",
       "0           WL  EROPS w AC          NaN    2 Valve  \n",
       "1           WL  EROPS w AC          NaN    2 Valve  \n",
       "2          SSL       OROPS          NaN  Auxiliary  \n",
       "3          TEX  EROPS w AC          NaN    2 Valve  \n",
       "4          SSL       EROPS          NaN  Auxiliary  "
      ]
     },
     "execution_count": 12,
     "metadata": {},
     "output_type": "execute_result"
    }
   ],
   "source": [
    "#Colunas que serão mantidas\n",
    "colunas_mantidas = ['SalePrice','YearMade','saledate','fiModelDesc','ProductSize','state','ProductGroup','Enclosure','Transmission','Hydraulics']\n",
    "\n",
    "#Criando uma copia do Df principal para não prejudicar a estutura.\n",
    "copia_df = df.copy()\n",
    "\n",
    "#Filtrando meus dados para pegar apenas as colunas que serão mantidas\n",
    "copia_df = copia_df[colunas_mantidas]\n",
    "\n",
    "#Exibindo\n",
    "copia_df.head()"
   ]
  },
  {
   "cell_type": "markdown",
   "id": "03f81360",
   "metadata": {},
   "source": [
    "- Pronto, agora temos nossas colunas que eu acredito ser relevante para as analises dos modelos, porém como estamos lidando com Times Series, vamos precisar de colunas de Time(Tempo), então vamos retirar essas informações da minha coluna de Date, e deixar separado o dia, o ano, etc..."
   ]
  },
  {
   "cell_type": "code",
   "execution_count": 13,
   "id": "1b43f989",
   "metadata": {},
   "outputs": [
    {
     "data": {
      "text/html": [
       "<div>\n",
       "<style scoped>\n",
       "    .dataframe tbody tr th:only-of-type {\n",
       "        vertical-align: middle;\n",
       "    }\n",
       "\n",
       "    .dataframe tbody tr th {\n",
       "        vertical-align: top;\n",
       "    }\n",
       "\n",
       "    .dataframe thead th {\n",
       "        text-align: right;\n",
       "    }\n",
       "</style>\n",
       "<table border=\"1\" class=\"dataframe\">\n",
       "  <thead>\n",
       "    <tr style=\"text-align: right;\">\n",
       "      <th></th>\n",
       "      <th>SalePrice</th>\n",
       "      <th>YearMade</th>\n",
       "      <th>saledate</th>\n",
       "      <th>fiModelDesc</th>\n",
       "      <th>ProductSize</th>\n",
       "      <th>state</th>\n",
       "      <th>ProductGroup</th>\n",
       "      <th>Enclosure</th>\n",
       "      <th>Transmission</th>\n",
       "      <th>Hydraulics</th>\n",
       "      <th>Year</th>\n",
       "      <th>Month</th>\n",
       "      <th>Day</th>\n",
       "    </tr>\n",
       "  </thead>\n",
       "  <tbody>\n",
       "    <tr>\n",
       "      <th>0</th>\n",
       "      <td>66000.0</td>\n",
       "      <td>2004</td>\n",
       "      <td>2006-11-16</td>\n",
       "      <td>521D</td>\n",
       "      <td>NaN</td>\n",
       "      <td>Alabama</td>\n",
       "      <td>WL</td>\n",
       "      <td>EROPS w AC</td>\n",
       "      <td>NaN</td>\n",
       "      <td>2 Valve</td>\n",
       "      <td>2006</td>\n",
       "      <td>11</td>\n",
       "      <td>16</td>\n",
       "    </tr>\n",
       "    <tr>\n",
       "      <th>1</th>\n",
       "      <td>57000.0</td>\n",
       "      <td>1996</td>\n",
       "      <td>2004-03-26</td>\n",
       "      <td>950FII</td>\n",
       "      <td>Medium</td>\n",
       "      <td>North Carolina</td>\n",
       "      <td>WL</td>\n",
       "      <td>EROPS w AC</td>\n",
       "      <td>NaN</td>\n",
       "      <td>2 Valve</td>\n",
       "      <td>2004</td>\n",
       "      <td>3</td>\n",
       "      <td>26</td>\n",
       "    </tr>\n",
       "    <tr>\n",
       "      <th>2</th>\n",
       "      <td>10000.0</td>\n",
       "      <td>2001</td>\n",
       "      <td>2004-02-26</td>\n",
       "      <td>226</td>\n",
       "      <td>NaN</td>\n",
       "      <td>New York</td>\n",
       "      <td>SSL</td>\n",
       "      <td>OROPS</td>\n",
       "      <td>NaN</td>\n",
       "      <td>Auxiliary</td>\n",
       "      <td>2004</td>\n",
       "      <td>2</td>\n",
       "      <td>26</td>\n",
       "    </tr>\n",
       "    <tr>\n",
       "      <th>3</th>\n",
       "      <td>38500.0</td>\n",
       "      <td>2001</td>\n",
       "      <td>2011-05-19</td>\n",
       "      <td>PC120-6E</td>\n",
       "      <td>Small</td>\n",
       "      <td>Texas</td>\n",
       "      <td>TEX</td>\n",
       "      <td>EROPS w AC</td>\n",
       "      <td>NaN</td>\n",
       "      <td>2 Valve</td>\n",
       "      <td>2011</td>\n",
       "      <td>5</td>\n",
       "      <td>19</td>\n",
       "    </tr>\n",
       "    <tr>\n",
       "      <th>4</th>\n",
       "      <td>11000.0</td>\n",
       "      <td>2007</td>\n",
       "      <td>2009-07-23</td>\n",
       "      <td>S175</td>\n",
       "      <td>NaN</td>\n",
       "      <td>New York</td>\n",
       "      <td>SSL</td>\n",
       "      <td>EROPS</td>\n",
       "      <td>NaN</td>\n",
       "      <td>Auxiliary</td>\n",
       "      <td>2009</td>\n",
       "      <td>7</td>\n",
       "      <td>23</td>\n",
       "    </tr>\n",
       "  </tbody>\n",
       "</table>\n",
       "</div>"
      ],
      "text/plain": [
       "   SalePrice  YearMade   saledate fiModelDesc ProductSize           state  \\\n",
       "0    66000.0      2004 2006-11-16        521D         NaN         Alabama   \n",
       "1    57000.0      1996 2004-03-26      950FII      Medium  North Carolina   \n",
       "2    10000.0      2001 2004-02-26         226         NaN        New York   \n",
       "3    38500.0      2001 2011-05-19    PC120-6E       Small           Texas   \n",
       "4    11000.0      2007 2009-07-23        S175         NaN        New York   \n",
       "\n",
       "  ProductGroup   Enclosure Transmission Hydraulics  Year  Month  Day  \n",
       "0           WL  EROPS w AC          NaN    2 Valve  2006     11   16  \n",
       "1           WL  EROPS w AC          NaN    2 Valve  2004      3   26  \n",
       "2          SSL       OROPS          NaN  Auxiliary  2004      2   26  \n",
       "3          TEX  EROPS w AC          NaN    2 Valve  2011      5   19  \n",
       "4          SSL       EROPS          NaN  Auxiliary  2009      7   23  "
      ]
     },
     "execution_count": 13,
     "metadata": {},
     "output_type": "execute_result"
    }
   ],
   "source": [
    "#Pegando as informação atraves da coluna de saledate\n",
    "copia_df['Year'] = copia_df['saledate'].dt.year\n",
    "copia_df['Month'] = copia_df['saledate'].dt.month\n",
    "copia_df['Day'] = copia_df['saledate'].dt.day\n",
    "\n",
    "#Exibindo\n",
    "copia_df.head()"
   ]
  },
  {
   "cell_type": "code",
   "execution_count": 14,
   "id": "a0b2908c",
   "metadata": {},
   "outputs": [],
   "source": [
    "#Como já temos essas informações separadas, agora podemos retirar a coluna de saledate, pois ela se tornou irrelevante.\n",
    "copia_df.drop('saledate',axis=1,inplace=True)"
   ]
  },
  {
   "cell_type": "code",
   "execution_count": 15,
   "id": "54d3ce8e",
   "metadata": {},
   "outputs": [
    {
     "data": {
      "text/plain": [
       "SalePrice            0\n",
       "YearMade             0\n",
       "fiModelDesc          0\n",
       "ProductSize     216605\n",
       "state                0\n",
       "ProductGroup         0\n",
       "Enclosure          334\n",
       "Transmission    224691\n",
       "Hydraulics       82565\n",
       "Year                 0\n",
       "Month                0\n",
       "Day                  0\n",
       "dtype: int64"
      ]
     },
     "execution_count": 15,
     "metadata": {},
     "output_type": "execute_result"
    }
   ],
   "source": [
    "#Verificando os valores nulos das minhas colunas mantidas\n",
    "copia_df.isnull().sum()"
   ]
  },
  {
   "cell_type": "code",
   "execution_count": 16,
   "id": "438a153b",
   "metadata": {},
   "outputs": [],
   "source": [
    "#Transformando as colunas categoricas em Numericas.\n",
    "for label, content in copia_df.items():\n",
    "    if not pd.api.types.is_numeric_dtype(content):\n",
    "    #Transformando colunas categoricas em numericas e adicionando +1(pois existem valores negativos, que são os valores nulos, eles já serão tratados.)\n",
    "        copia_df[label] = pd.Categorical(content).codes + 1"
   ]
  },
  {
   "cell_type": "code",
   "execution_count": 17,
   "id": "6aacfd4c",
   "metadata": {},
   "outputs": [
    {
     "data": {
      "text/html": [
       "<div>\n",
       "<style scoped>\n",
       "    .dataframe tbody tr th:only-of-type {\n",
       "        vertical-align: middle;\n",
       "    }\n",
       "\n",
       "    .dataframe tbody tr th {\n",
       "        vertical-align: top;\n",
       "    }\n",
       "\n",
       "    .dataframe thead th {\n",
       "        text-align: right;\n",
       "    }\n",
       "</style>\n",
       "<table border=\"1\" class=\"dataframe\">\n",
       "  <thead>\n",
       "    <tr style=\"text-align: right;\">\n",
       "      <th></th>\n",
       "      <th>SalePrice</th>\n",
       "      <th>YearMade</th>\n",
       "      <th>fiModelDesc</th>\n",
       "      <th>ProductSize</th>\n",
       "      <th>state</th>\n",
       "      <th>ProductGroup</th>\n",
       "      <th>Enclosure</th>\n",
       "      <th>Transmission</th>\n",
       "      <th>Hydraulics</th>\n",
       "      <th>Year</th>\n",
       "      <th>Month</th>\n",
       "      <th>Day</th>\n",
       "    </tr>\n",
       "  </thead>\n",
       "  <tbody>\n",
       "    <tr>\n",
       "      <th>0</th>\n",
       "      <td>66000.0</td>\n",
       "      <td>2004</td>\n",
       "      <td>963</td>\n",
       "      <td>0</td>\n",
       "      <td>1</td>\n",
       "      <td>6</td>\n",
       "      <td>3</td>\n",
       "      <td>0</td>\n",
       "      <td>1</td>\n",
       "      <td>2006</td>\n",
       "      <td>11</td>\n",
       "      <td>16</td>\n",
       "    </tr>\n",
       "    <tr>\n",
       "      <th>1</th>\n",
       "      <td>57000.0</td>\n",
       "      <td>1996</td>\n",
       "      <td>1745</td>\n",
       "      <td>4</td>\n",
       "      <td>33</td>\n",
       "      <td>6</td>\n",
       "      <td>3</td>\n",
       "      <td>0</td>\n",
       "      <td>1</td>\n",
       "      <td>2004</td>\n",
       "      <td>3</td>\n",
       "      <td>26</td>\n",
       "    </tr>\n",
       "    <tr>\n",
       "      <th>2</th>\n",
       "      <td>10000.0</td>\n",
       "      <td>2001</td>\n",
       "      <td>336</td>\n",
       "      <td>0</td>\n",
       "      <td>32</td>\n",
       "      <td>3</td>\n",
       "      <td>6</td>\n",
       "      <td>0</td>\n",
       "      <td>4</td>\n",
       "      <td>2004</td>\n",
       "      <td>2</td>\n",
       "      <td>26</td>\n",
       "    </tr>\n",
       "    <tr>\n",
       "      <th>3</th>\n",
       "      <td>38500.0</td>\n",
       "      <td>2001</td>\n",
       "      <td>3716</td>\n",
       "      <td>6</td>\n",
       "      <td>44</td>\n",
       "      <td>4</td>\n",
       "      <td>3</td>\n",
       "      <td>0</td>\n",
       "      <td>1</td>\n",
       "      <td>2011</td>\n",
       "      <td>5</td>\n",
       "      <td>19</td>\n",
       "    </tr>\n",
       "    <tr>\n",
       "      <th>4</th>\n",
       "      <td>11000.0</td>\n",
       "      <td>2007</td>\n",
       "      <td>4261</td>\n",
       "      <td>0</td>\n",
       "      <td>32</td>\n",
       "      <td>3</td>\n",
       "      <td>1</td>\n",
       "      <td>0</td>\n",
       "      <td>4</td>\n",
       "      <td>2009</td>\n",
       "      <td>7</td>\n",
       "      <td>23</td>\n",
       "    </tr>\n",
       "  </tbody>\n",
       "</table>\n",
       "</div>"
      ],
      "text/plain": [
       "   SalePrice  YearMade  fiModelDesc  ProductSize  state  ProductGroup  \\\n",
       "0    66000.0      2004          963            0      1             6   \n",
       "1    57000.0      1996         1745            4     33             6   \n",
       "2    10000.0      2001          336            0     32             3   \n",
       "3    38500.0      2001         3716            6     44             4   \n",
       "4    11000.0      2007         4261            0     32             3   \n",
       "\n",
       "   Enclosure  Transmission  Hydraulics  Year  Month  Day  \n",
       "0          3             0           1  2006     11   16  \n",
       "1          3             0           1  2004      3   26  \n",
       "2          6             0           4  2004      2   26  \n",
       "3          3             0           1  2011      5   19  \n",
       "4          1             0           4  2009      7   23  "
      ]
     },
     "execution_count": 17,
     "metadata": {},
     "output_type": "execute_result"
    }
   ],
   "source": [
    "#Exibindo\n",
    "copia_df.head()"
   ]
  },
  {
   "cell_type": "code",
   "execution_count": 18,
   "id": "a7b91fb2",
   "metadata": {},
   "outputs": [
    {
     "data": {
      "text/plain": [
       "SalePrice       0\n",
       "YearMade        0\n",
       "fiModelDesc     0\n",
       "ProductSize     0\n",
       "state           0\n",
       "ProductGroup    0\n",
       "Enclosure       0\n",
       "Transmission    0\n",
       "Hydraulics      0\n",
       "Year            0\n",
       "Month           0\n",
       "Day             0\n",
       "dtype: int64"
      ]
     },
     "execution_count": 18,
     "metadata": {},
     "output_type": "execute_result"
    }
   ],
   "source": [
    "#Reverificando se existe valores nulos\n",
    "copia_df.isnull().sum()"
   ]
  },
  {
   "cell_type": "code",
   "execution_count": 19,
   "id": "5dd0f777",
   "metadata": {},
   "outputs": [
    {
     "name": "stdout",
     "output_type": "stream",
     "text": [
      "<class 'pandas.core.frame.DataFrame'>\n",
      "RangeIndex: 412698 entries, 0 to 412697\n",
      "Data columns (total 12 columns):\n",
      " #   Column        Non-Null Count   Dtype  \n",
      "---  ------        --------------   -----  \n",
      " 0   SalePrice     412698 non-null  float64\n",
      " 1   YearMade      412698 non-null  int64  \n",
      " 2   fiModelDesc   412698 non-null  int16  \n",
      " 3   ProductSize   412698 non-null  int8   \n",
      " 4   state         412698 non-null  int8   \n",
      " 5   ProductGroup  412698 non-null  int8   \n",
      " 6   Enclosure     412698 non-null  int8   \n",
      " 7   Transmission  412698 non-null  int8   \n",
      " 8   Hydraulics    412698 non-null  int8   \n",
      " 9   Year          412698 non-null  int64  \n",
      " 10  Month         412698 non-null  int64  \n",
      " 11  Day           412698 non-null  int64  \n",
      "dtypes: float64(1), int16(1), int64(4), int8(6)\n",
      "memory usage: 18.9 MB\n"
     ]
    }
   ],
   "source": [
    "#Informações gerais\n",
    "copia_df.info()"
   ]
  },
  {
   "cell_type": "code",
   "execution_count": 20,
   "id": "4d0f1fc7",
   "metadata": {},
   "outputs": [
    {
     "data": {
      "text/plain": [
       "(412698, 12)"
      ]
     },
     "execution_count": 20,
     "metadata": {},
     "output_type": "execute_result"
    }
   ],
   "source": [
    "#Linhas e colunas\n",
    "copia_df.shape"
   ]
  },
  {
   "cell_type": "markdown",
   "id": "b562a14e",
   "metadata": {},
   "source": [
    "---"
   ]
  },
  {
   "cell_type": "markdown",
   "id": "1a659ad7",
   "metadata": {},
   "source": [
    "#### Etapa 5: Exploração dos dados."
   ]
  },
  {
   "cell_type": "code",
   "execution_count": 21,
   "id": "866a34b7",
   "metadata": {},
   "outputs": [
    {
     "data": {
      "text/html": [
       "<div>\n",
       "<style scoped>\n",
       "    .dataframe tbody tr th:only-of-type {\n",
       "        vertical-align: middle;\n",
       "    }\n",
       "\n",
       "    .dataframe tbody tr th {\n",
       "        vertical-align: top;\n",
       "    }\n",
       "\n",
       "    .dataframe thead th {\n",
       "        text-align: right;\n",
       "    }\n",
       "</style>\n",
       "<table border=\"1\" class=\"dataframe\">\n",
       "  <thead>\n",
       "    <tr style=\"text-align: right;\">\n",
       "      <th></th>\n",
       "      <th>SalePrice</th>\n",
       "      <th>YearMade</th>\n",
       "      <th>Year</th>\n",
       "      <th>Month</th>\n",
       "      <th>Day</th>\n",
       "    </tr>\n",
       "  </thead>\n",
       "  <tbody>\n",
       "    <tr>\n",
       "      <th>count</th>\n",
       "      <td>412698.000000</td>\n",
       "      <td>412698.000000</td>\n",
       "      <td>412698.000000</td>\n",
       "      <td>412698.000000</td>\n",
       "      <td>412698.000000</td>\n",
       "    </tr>\n",
       "    <tr>\n",
       "      <th>mean</th>\n",
       "      <td>31215.181414</td>\n",
       "      <td>1899.049637</td>\n",
       "      <td>2004.317382</td>\n",
       "      <td>6.300268</td>\n",
       "      <td>16.152894</td>\n",
       "    </tr>\n",
       "    <tr>\n",
       "      <th>std</th>\n",
       "      <td>23141.743695</td>\n",
       "      <td>292.190243</td>\n",
       "      <td>5.821090</td>\n",
       "      <td>3.437276</td>\n",
       "      <td>8.429510</td>\n",
       "    </tr>\n",
       "    <tr>\n",
       "      <th>min</th>\n",
       "      <td>4750.000000</td>\n",
       "      <td>1000.000000</td>\n",
       "      <td>1989.000000</td>\n",
       "      <td>1.000000</td>\n",
       "      <td>1.000000</td>\n",
       "    </tr>\n",
       "    <tr>\n",
       "      <th>25%</th>\n",
       "      <td>14500.000000</td>\n",
       "      <td>1985.000000</td>\n",
       "      <td>2000.000000</td>\n",
       "      <td>3.000000</td>\n",
       "      <td>9.000000</td>\n",
       "    </tr>\n",
       "    <tr>\n",
       "      <th>50%</th>\n",
       "      <td>24000.000000</td>\n",
       "      <td>1995.000000</td>\n",
       "      <td>2006.000000</td>\n",
       "      <td>6.000000</td>\n",
       "      <td>16.000000</td>\n",
       "    </tr>\n",
       "    <tr>\n",
       "      <th>75%</th>\n",
       "      <td>40000.000000</td>\n",
       "      <td>2001.000000</td>\n",
       "      <td>2009.000000</td>\n",
       "      <td>9.000000</td>\n",
       "      <td>23.000000</td>\n",
       "    </tr>\n",
       "    <tr>\n",
       "      <th>max</th>\n",
       "      <td>142000.000000</td>\n",
       "      <td>2014.000000</td>\n",
       "      <td>2012.000000</td>\n",
       "      <td>12.000000</td>\n",
       "      <td>31.000000</td>\n",
       "    </tr>\n",
       "  </tbody>\n",
       "</table>\n",
       "</div>"
      ],
      "text/plain": [
       "           SalePrice       YearMade           Year          Month  \\\n",
       "count  412698.000000  412698.000000  412698.000000  412698.000000   \n",
       "mean    31215.181414    1899.049637    2004.317382       6.300268   \n",
       "std     23141.743695     292.190243       5.821090       3.437276   \n",
       "min      4750.000000    1000.000000    1989.000000       1.000000   \n",
       "25%     14500.000000    1985.000000    2000.000000       3.000000   \n",
       "50%     24000.000000    1995.000000    2006.000000       6.000000   \n",
       "75%     40000.000000    2001.000000    2009.000000       9.000000   \n",
       "max    142000.000000    2014.000000    2012.000000      12.000000   \n",
       "\n",
       "                 Day  \n",
       "count  412698.000000  \n",
       "mean       16.152894  \n",
       "std         8.429510  \n",
       "min         1.000000  \n",
       "25%         9.000000  \n",
       "50%        16.000000  \n",
       "75%        23.000000  \n",
       "max        31.000000  "
      ]
     },
     "execution_count": 21,
     "metadata": {},
     "output_type": "execute_result"
    }
   ],
   "source": [
    "#Colunas que são numericas originais.\n",
    "lista_colunas = ['SalePrice','YearMade','Year','Month','Day']\n",
    "\n",
    "#Vendo as informações estatisticas dos meus dados\n",
    "copia_df[lista_colunas].describe()"
   ]
  },
  {
   "cell_type": "code",
   "execution_count": 22,
   "id": "a2b34141",
   "metadata": {},
   "outputs": [
    {
     "data": {
      "image/png": "[encoded data removed]",
      "text/plain": [
       "<Figure size 1080x504 with 6 Axes>"
      ]
     },
     "metadata": {},
     "output_type": "display_data"
    }
   ],
   "source": [
    "#Grafico de histrograma dos meus dados numericos\n",
    "copia_df[lista_colunas].hist(figsize=(15,7));"
   ]
  },
  {
   "cell_type": "markdown",
   "id": "d3b589c8",
   "metadata": {},
   "source": [
    "##### Observações sobre o grafico de hist\n",
    "- Olhando a coluna de SalePrice, podemos notar que a maioria dos nossos dados está entre 100 mil e 200 mil então pode ser que exista outliers, mas isso e algo a ser estudado ainda.\n",
    "- A coluna de Ano Feito, por alguma razão tem um pico no ano 1000, e depois só volta a ter informações relevantes no ano 2000, acredito ser algum erro no sistema, pois não parece fazer muito sentido de primeiro momento o ano mil ter tantas informações."
   ]
  },
  {
   "cell_type": "markdown",
   "id": "0d741490",
   "metadata": {},
   "source": [
    "---"
   ]
  },
  {
   "cell_type": "markdown",
   "id": "dc7665c3",
   "metadata": {},
   "source": [
    "### Respondendo algumas perguntas\n",
    "- Aqui vou demostrar o poder dessa fase de exploração dos dados, claro que não vou me aprofundar complemente nas analises, pois não é esse o meu objetivo, porém vou dar um deslumbre de como podemos plotar graficos que nos deem informações relevantes."
   ]
  },
  {
   "cell_type": "markdown",
   "id": "30c5685a",
   "metadata": {},
   "source": [
    "##### Quais os Top 5 anos que tivemos mais movimento?"
   ]
  },
  {
   "cell_type": "code",
   "execution_count": 23,
   "id": "ee1b2638",
   "metadata": {},
   "outputs": [
    {
     "data": {
      "text/plain": [
       "2009    43849\n",
       "2008    39767\n",
       "2011    35197\n",
       "2010    33390\n",
       "2007    32208\n",
       "Name: Year, dtype: int64"
      ]
     },
     "execution_count": 23,
     "metadata": {},
     "output_type": "execute_result"
    }
   ],
   "source": [
    "#Respondendo a pergunta em forma numérica.\n",
    "copia_df['Year'].value_counts()[:5]"
   ]
  },
  {
   "cell_type": "code",
   "execution_count": 24,
   "id": "bd7c6f74",
   "metadata": {},
   "outputs": [
    {
     "data": {
      "image/png": "[encoded data removed]",
      "text/plain": [
       "<Figure size 1080x504 with 1 Axes>"
      ]
     },
     "metadata": {},
     "output_type": "display_data"
    }
   ],
   "source": [
    "#Vendo em forma grafica\n",
    "plt.figure(figsize=(15,7))\n",
    "sns.barplot(\n",
    "    x= copia_df['Year'].value_counts()[:5].index,\n",
    "    y= copia_df['Year'].value_counts()[:5],\n",
    "    palette=\"Blues_d\"\n",
    ");"
   ]
  },
  {
   "cell_type": "markdown",
   "id": "d9559cd0",
   "metadata": {},
   "source": [
    "###### Podemos ver que no ano de 2019 foi o ano que tivemos mais movimento, ou seja, a quantidade de vezes que essa coluna aparece e maior do que as outras, então nesse ano tivemos mais venda de tratores🚜"
   ]
  },
  {
   "cell_type": "markdown",
   "id": "c5cdbeda",
   "metadata": {},
   "source": [
    "##### Quais os Top 5 meses que tivemos mais movimento?"
   ]
  },
  {
   "cell_type": "code",
   "execution_count": 25,
   "id": "48ca7e21",
   "metadata": {},
   "outputs": [
    {
     "data": {
      "text/plain": [
       "3     59354\n",
       "2     56319\n",
       "6     47045\n",
       "9     43214\n",
       "12    39778\n",
       "Name: Month, dtype: int64"
      ]
     },
     "execution_count": 25,
     "metadata": {},
     "output_type": "execute_result"
    }
   ],
   "source": [
    "#Respondendo a pergunta em forma numérica.\n",
    "copia_df['Month'].value_counts()[:5]"
   ]
  },
  {
   "cell_type": "code",
   "execution_count": 26,
   "id": "2f5200bc",
   "metadata": {},
   "outputs": [
    {
     "data": {
      "image/png": "[encoded data removed]",
      "text/plain": [
       "<Figure size 1080x504 with 1 Axes>"
      ]
     },
     "metadata": {},
     "output_type": "display_data"
    }
   ],
   "source": [
    "#Vendo em forma grafica\n",
    "plt.figure(figsize=(15,7))\n",
    "sns.barplot(\n",
    "    x= copia_df['Month'].value_counts()[:5].index,\n",
    "    y= copia_df['Month'].value_counts()[:5],\n",
    "    color=\"salmon\"\n",
    ");"
   ]
  },
  {
   "cell_type": "markdown",
   "id": "d871abc8",
   "metadata": {},
   "source": [
    "##### Mesma coisa do gráfico acima, nos podemos notar que no mês 3 teve o maior pico de venda de tratores🚜 considerando todos os anos, e bom relembra que essas informações de Ano, mes e dia vieram da coluna saladate, que e a coluna que nos dias quando foi a Data da Venda."
   ]
  },
  {
   "cell_type": "markdown",
   "id": "e64f30b1",
   "metadata": {},
   "source": [
    "##### Quais os Top 5 dias que tivemos mais movimento?"
   ]
  },
  {
   "cell_type": "code",
   "execution_count": 27,
   "id": "976bd2df",
   "metadata": {},
   "outputs": [
    {
     "data": {
      "text/plain": [
       "15    18678\n",
       "16    18672\n",
       "20    15819\n",
       "18    15696\n",
       "12    15146\n",
       "Name: Day, dtype: int64"
      ]
     },
     "execution_count": 27,
     "metadata": {},
     "output_type": "execute_result"
    }
   ],
   "source": [
    "#Respondendo a pergunta.\n",
    "copia_df['Day'].value_counts()[:5]"
   ]
  },
  {
   "cell_type": "code",
   "execution_count": 28,
   "id": "79f79296",
   "metadata": {},
   "outputs": [
    {
     "data": {
      "image/png": "[encoded data removed]",
      "text/plain": [
       "<Figure size 1080x504 with 1 Axes>"
      ]
     },
     "metadata": {},
     "output_type": "display_data"
    }
   ],
   "source": [
    "#Vendo em forma grafica\n",
    "plt.figure(figsize=(15,7))\n",
    "sns.barplot(\n",
    "    x= copia_df['Day'].value_counts()[:5].index,\n",
    "    y= copia_df['Day'].value_counts()[:5],\n",
    "    palette='Set2'\n",
    ");"
   ]
  },
  {
   "cell_type": "markdown",
   "id": "239255a2",
   "metadata": {},
   "source": [
    "##### Podemos notar que no dia 15 e 16 foram os nossos dias campeões, relembrando que esses dados são de todas as minhas informações, ou seja, são de todos os dias do ano, o dia 15 e 16 foram os que mais apareceram."
   ]
  },
  {
   "cell_type": "markdown",
   "id": "0a0479b4",
   "metadata": {},
   "source": [
    "##### Distribuição do preço da venda ao longo dos anos."
   ]
  },
  {
   "cell_type": "code",
   "execution_count": 29,
   "id": "1db7b8cf",
   "metadata": {},
   "outputs": [
    {
     "data": {
      "text/plain": [
       "Int64Index([1989, 1990, 1991, 1992, 1993, 1994, 1995, 1996, 1997, 1998, 1999,\n",
       "            2000, 2001, 2002, 2003, 2004, 2005, 2006, 2007, 2008, 2009, 2010,\n",
       "            2011, 2012],\n",
       "           dtype='int64', name='Year')"
      ]
     },
     "execution_count": 29,
     "metadata": {},
     "output_type": "execute_result"
    }
   ],
   "source": [
    "#Agrupando os dados por Year e pegando a soma de Saleprice\n",
    "copia_df.groupby('Year')['SalePrice'].sum().index"
   ]
  },
  {
   "cell_type": "code",
   "execution_count": 30,
   "id": "bad80e9f",
   "metadata": {},
   "outputs": [
    {
     "data": {
      "image/png": "[encoded data removed]",
      "text/plain": [
       "<Figure size 1080x504 with 1 Axes>"
      ]
     },
     "metadata": {},
     "output_type": "display_data"
    }
   ],
   "source": [
    "#Vendo em forma grafica\n",
    "plt.figure(figsize=(15,7))\n",
    "sns.barplot(\n",
    "    x= copia_df.groupby('Year')['SalePrice'].sum().index,\n",
    "    y= copia_df.groupby('Year')['SalePrice'].sum(),\n",
    "    palette='rocket'\n",
    ");"
   ]
  },
  {
   "cell_type": "markdown",
   "id": "013bedd9",
   "metadata": {},
   "source": [
    "##### Como podemos ver, começamos a ter venda de tratores🚜 a partir do ano 1989 e dai as coisas so foram crescendo de forma normal até 2011,  pois em 2012 tivemos uma queda, porém como dito no inicio do projeto, esse projeto e um desafio do keggle e nele o ano de 2012 e a coluna de validação do nosso modelo, então julgo que ela não está completa e por isso essa baixa repentina, e claro que e algo que precisa ser mais aprofundado."
   ]
  },
  {
   "cell_type": "markdown",
   "id": "e4a1b7eb",
   "metadata": {},
   "source": [
    "##### Distribuição do preço da venda ao longo dos meses."
   ]
  },
  {
   "cell_type": "code",
   "execution_count": 31,
   "id": "99c18c58",
   "metadata": {},
   "outputs": [
    {
     "data": {
      "text/plain": [
       "Int64Index([1, 2, 3, 4, 5, 6, 7, 8, 9, 10, 11, 12], dtype='int64', name='Month')"
      ]
     },
     "execution_count": 31,
     "metadata": {},
     "output_type": "execute_result"
    }
   ],
   "source": [
    "#Agrupando os dados por Year e pegando a soma de Saleprice\n",
    "copia_df.groupby('Month')['SalePrice'].sum().index"
   ]
  },
  {
   "cell_type": "code",
   "execution_count": 32,
   "id": "6c6a925c",
   "metadata": {},
   "outputs": [
    {
     "data": {
      "image/png": "[encoded data removed]",
      "text/plain": [
       "<Figure size 1080x504 with 1 Axes>"
      ]
     },
     "metadata": {},
     "output_type": "display_data"
    }
   ],
   "source": [
    "#Vendo em forma grafica\n",
    "plt.figure(figsize=(15,7))\n",
    "sns.barplot(\n",
    "    x= copia_df.groupby('Month')['SalePrice'].sum().index,\n",
    "    y= copia_df.groupby('Month')['SalePrice'].sum(),\n",
    "    palette='crest'\n",
    ");"
   ]
  },
  {
   "cell_type": "markdown",
   "id": "84132816",
   "metadata": {},
   "source": [
    "##### Como podemos notar os meses 2 e 3 foram os que tiveram um maior pico de venda de tratores🚜"
   ]
  },
  {
   "cell_type": "markdown",
   "id": "d8b33be6",
   "metadata": {},
   "source": [
    "#### Qual os Top 5 anos com caminhões mais fabricados?"
   ]
  },
  {
   "cell_type": "code",
   "execution_count": 33,
   "id": "f5d77e10",
   "metadata": {},
   "outputs": [
    {
     "data": {
      "text/plain": [
       "2005    22096\n",
       "1998    21751\n",
       "2004    20914\n",
       "1999    19274\n",
       "1997    19269\n",
       "Name: YearMade, dtype: int64"
      ]
     },
     "execution_count": 33,
     "metadata": {},
     "output_type": "execute_result"
    }
   ],
   "source": [
    "#Respondendo a pergunta.\n",
    "copia_df['YearMade'].value_counts()[1:6]"
   ]
  },
  {
   "cell_type": "code",
   "execution_count": 34,
   "id": "db49327f",
   "metadata": {},
   "outputs": [
    {
     "data": {
      "image/png": "[encoded data removed]",
      "text/plain": [
       "<Figure size 1080x504 with 1 Axes>"
      ]
     },
     "metadata": {},
     "output_type": "display_data"
    }
   ],
   "source": [
    "#Vendo em forma grafica\n",
    "plt.figure(figsize=(15,7))\n",
    "sns.barplot(\n",
    "    x= copia_df['YearMade'].value_counts()[1:6].index,\n",
    "    y= copia_df['YearMade'].value_counts()[1:6],\n",
    "    palette=\"Blues_d\"\n",
    ");"
   ]
  },
  {
   "cell_type": "markdown",
   "id": "eb5d110e",
   "metadata": {},
   "source": [
    "###### Para conseguir plotar um grafico assim, foi necessario retirar as informações do ano 1000 mil, pois elas são tão grandes(Será mostrado abaixo) que esmaga todas as outras informações então descidir fazer sem ela."
   ]
  },
  {
   "cell_type": "markdown",
   "id": "8a1e6bdc",
   "metadata": {},
   "source": [
    "##### Distribuição do preço da venda ao longo dos anos de fabricação."
   ]
  },
  {
   "cell_type": "code",
   "execution_count": 35,
   "id": "61192270",
   "metadata": {},
   "outputs": [
    {
     "data": {
      "text/plain": [
       "Int64Index([1000, 1919, 1920, 1937, 1942, 1947, 1948, 1949, 1950, 1951, 1952,\n",
       "            1953, 1954, 1955, 1956, 1957, 1958, 1959, 1960, 1961, 1962, 1963,\n",
       "            1964, 1965, 1966, 1967, 1968, 1969, 1970, 1971, 1972, 1973, 1974,\n",
       "            1975, 1976, 1977, 1978, 1979, 1980, 1981],\n",
       "           dtype='int64', name='YearMade')"
      ]
     },
     "execution_count": 35,
     "metadata": {},
     "output_type": "execute_result"
    }
   ],
   "source": [
    "#Agrupando os dados por Year e pegando a soma de Saleprice\n",
    "copia_df.groupby('YearMade')['SalePrice'].sum().index[:40]"
   ]
  },
  {
   "cell_type": "code",
   "execution_count": 36,
   "id": "0f56bd57",
   "metadata": {
    "scrolled": true
   },
   "outputs": [
    {
     "data": {
      "image/png": "[encoded data removed]",
      "text/plain": [
       "<Figure size 1440x504 with 1 Axes>"
      ]
     },
     "metadata": {},
     "output_type": "display_data"
    }
   ],
   "source": [
    "#Vendo em forma grafica\n",
    "plt.figure(figsize=(20,7))\n",
    "sns.barplot(\n",
    "    x= copia_df.groupby('YearMade')['SalePrice'].sum().index[1:40],\n",
    "    y= copia_df.groupby('YearMade')['SalePrice'].sum()[1:40],\n",
    "    palette='crest'\n",
    ");"
   ]
  },
  {
   "cell_type": "markdown",
   "id": "3f65340c",
   "metadata": {},
   "source": [
    "##### Por algum motivo as informações dos tratores🚜 no ano mil (1000) são muito maiores que as dos anos seguintes, e como esse ano estava apagando os outros graficos, eu descidir criar um grafico sem ter ele, pois parece mais um erro de cadastramento do um ano de fabricação."
   ]
  },
  {
   "cell_type": "code",
   "execution_count": 37,
   "id": "3ecfdad9",
   "metadata": {},
   "outputs": [
    {
     "data": {
      "image/png": "[encoded data removed]",
      "text/plain": [
       "<Figure size 1440x504 with 1 Axes>"
      ]
     },
     "metadata": {},
     "output_type": "display_data"
    }
   ],
   "source": [
    "#GRAFICO SEM REMOVER O ANO MIL\n",
    "#Vendo em forma grafica\n",
    "plt.figure(figsize=(20,7))\n",
    "sns.barplot(\n",
    "    x= copia_df.groupby('YearMade')['SalePrice'].sum().index,\n",
    "    y= copia_df.groupby('YearMade')['SalePrice'].sum(),\n",
    "    palette='crest'\n",
    ");"
   ]
  },
  {
   "cell_type": "markdown",
   "id": "1c808ce2",
   "metadata": {},
   "source": [
    "##### Aqui podemos ver o grafico sem retirar o ano 1000 mi, como pode ser notado que as informações nessa coluna são muito maiores que as dos anos seguintes até os meados de 1900, ou seja, nos graficos acima, não iria mostrar nada."
   ]
  },
  {
   "cell_type": "markdown",
   "id": "2afa849d",
   "metadata": {},
   "source": [
    "---"
   ]
  },
  {
   "cell_type": "markdown",
   "id": "363d7156",
   "metadata": {},
   "source": [
    "#### Etapa 6: Aplicação do modelo e Avaliando ele"
   ]
  },
  {
   "cell_type": "code",
   "execution_count": 38,
   "id": "1552fc16",
   "metadata": {},
   "outputs": [
    {
     "data": {
      "text/plain": [
       "(11573, 401125)"
      ]
     },
     "execution_count": 38,
     "metadata": {},
     "output_type": "execute_result"
    }
   ],
   "source": [
    "#Separando os dados entre Validação e Train, como podemos ver na descrição do desafio no inicio do projeto\n",
    "def_val = copia_df[copia_df['Year']==2012]\n",
    "def_train = copia_df[copia_df['Year']!=2012]\n",
    "\n",
    "len(def_val),len(def_train)"
   ]
  },
  {
   "cell_type": "code",
   "execution_count": 39,
   "id": "289c93f9",
   "metadata": {},
   "outputs": [
    {
     "data": {
      "text/plain": [
       "((401125, 11), (401125,), (11573, 11), (11573,))"
      ]
     },
     "execution_count": 39,
     "metadata": {},
     "output_type": "execute_result"
    }
   ],
   "source": [
    "#Seperando entre x e y\n",
    "x_train, y_train = def_train.drop('SalePrice',axis=1), def_train.SalePrice\n",
    "x_valid, y_valid = def_val.drop('SalePrice', axis=1), def_val.SalePrice\n",
    "\n",
    "x_train.shape, y_train.shape, x_valid.shape, y_valid.shape"
   ]
  },
  {
   "cell_type": "code",
   "execution_count": 40,
   "id": "772aab5d",
   "metadata": {},
   "outputs": [],
   "source": [
    "#Definindo a função que vai avaliar meu modelo\n",
    "\n",
    "def Avaliarmodelo(nome_modelo,y_test,previsao):\n",
    "    r2 = r2_score(y_test, previsao)\n",
    "    RMSE = np.sqrt(mean_squared_error(y_test,previsao))\n",
    "    RMSLE = np.sqrt(mean_squared_log_error(y_test,previsao)) #Métrica principal de avaliação do modelo no desafio\n",
    "    return f'O Modelo: {nome_modelo}\\nTeve o R² de: {r2:.2%}\\nRMSE de: {RMSE:.2f}\\nRMSLE de: {RMSLE:.2%}'"
   ]
  },
  {
   "cell_type": "code",
   "execution_count": 41,
   "id": "eb5a0942",
   "metadata": {},
   "outputs": [],
   "source": [
    "modelo_rf = RandomForestRegressor()\n",
    "modelo_et = ExtraTreesRegressor()\n",
    "modelo_dc = DecisionTreeRegressor()\n",
    "\n",
    "Modelos = {\n",
    "    'RandomForest': modelo_rf,\n",
    "    #'LinearRegression':modelo_lr,\n",
    "    'ExtraTress':modelo_et,\n",
    "    'Decision Tree Regressor':modelo_dc,\n",
    "}"
   ]
  },
  {
   "cell_type": "code",
   "execution_count": 42,
   "id": "2ff266db",
   "metadata": {},
   "outputs": [
    {
     "name": "stdout",
     "output_type": "stream",
     "text": [
      "O Modelo: RandomForest\n",
      "Teve o R² de: 85.56%\n",
      "RMSE de: 9957.67\n",
      "RMSLE de: 27.10%\n",
      "======================================================================\n",
      "O Modelo: ExtraTress\n",
      "Teve o R² de: 83.61%\n",
      "RMSE de: 10609.05\n",
      "RMSLE de: 29.01%\n",
      "======================================================================\n",
      "O Modelo: Decision Tree Regressor\n",
      "Teve o R² de: 75.04%\n",
      "RMSE de: 13094.21\n",
      "RMSLE de: 35.50%\n",
      "======================================================================\n",
      "Wall time: 5min 3s\n"
     ]
    }
   ],
   "source": [
    "%%time\n",
    "\n",
    "for nome_modelo, Modelo in Modelos.items():\n",
    "    #Treinando o modelo\n",
    "    Modelo.fit(x_train, y_train)\n",
    "    #Prevendo\n",
    "    previsao = Modelo.predict(x_valid)\n",
    "    #Avaliando\n",
    "    print(Avaliarmodelo(nome_modelo,y_valid, previsao))\n",
    "    \n",
    "    print('='*70)"
   ]
  },
  {
   "cell_type": "markdown",
   "id": "91ffa32a",
   "metadata": {},
   "source": [
    "#### Etapa 7: Escolher do melhor modelo e melhorando ele.\n",
    "- Como o modelo de Decision Tree Teve o maior desempenho na principal metrica de avaliação do desafio, eu vou escolher mante-lo, e buscar alguma forma de melhorado, como por exemplo fazendo um Hyper tunning ou removendo colunas que ele não acha relevante."
   ]
  },
  {
   "cell_type": "code",
   "execution_count": 43,
   "id": "1947f4c1",
   "metadata": {},
   "outputs": [],
   "source": [
    "#Função que vai criar um grafico com as features usadas pelo modelo\n",
    "\n",
    "def Importancia_coluna(modelo,coluna):\n",
    "    #Dados\n",
    "    modelo_importances = pd.DataFrame(modelo.feature_importances_,coluna.columns)\n",
    "    #Ordenando\n",
    "    modelo_importances.sort_values(by=0,ascending=False,inplace=True)\n",
    "    #Grafico\n",
    "    grafico = plt.figure(figsize=(12,6))\n",
    "    sns.barplot(x= modelo_importances.index,y= modelo_importances[0])"
   ]
  },
  {
   "cell_type": "code",
   "execution_count": 44,
   "id": "8f2fcee2",
   "metadata": {},
   "outputs": [
    {
     "data": {
      "image/png": "[encoded data removed]",
      "text/plain": [
       "<Figure size 864x432 with 1 Axes>"
      ]
     },
     "metadata": {},
     "output_type": "display_data"
    }
   ],
   "source": [
    "#Aplicando a função.\n",
    "Importancia_coluna(modelo_dc,x_train)"
   ]
  },
  {
   "cell_type": "markdown",
   "id": "e0e0d010",
   "metadata": {},
   "source": [
    "- Como podemos notar a coluna de Transmission, praticamente não impacta no meu modelo de Machine Learning, então eu vou excluir ela para ver se o modelo tem alguam melhora ou piora."
   ]
  },
  {
   "cell_type": "markdown",
   "id": "905e1c49",
   "metadata": {},
   "source": [
    "#### Etapa surpresa\n",
    "- Eu vou testar outro tipo de modelagem, que é transformar as colunas categorias, não em numericas dessa vez!! mas sim em dummy, ou seja, 0 e 1, que eu particulamente acho mais atrativo para o modelo, pois ele pode acabar considerando coisas que não são quanto transformamos elas em numericas,então eu vou testar de outra forma. 😁"
   ]
  },
  {
   "cell_type": "markdown",
   "id": "ed014bae",
   "metadata": {},
   "source": [
    "##### Refazendo minha modelagem."
   ]
  },
  {
   "cell_type": "code",
   "execution_count": 45,
   "id": "6681765a",
   "metadata": {},
   "outputs": [
    {
     "data": {
      "text/html": [
       "<div>\n",
       "<style scoped>\n",
       "    .dataframe tbody tr th:only-of-type {\n",
       "        vertical-align: middle;\n",
       "    }\n",
       "\n",
       "    .dataframe tbody tr th {\n",
       "        vertical-align: top;\n",
       "    }\n",
       "\n",
       "    .dataframe thead th {\n",
       "        text-align: right;\n",
       "    }\n",
       "</style>\n",
       "<table border=\"1\" class=\"dataframe\">\n",
       "  <thead>\n",
       "    <tr style=\"text-align: right;\">\n",
       "      <th></th>\n",
       "      <th>SalesID</th>\n",
       "      <th>SalePrice</th>\n",
       "      <th>MachineID</th>\n",
       "      <th>ModelID</th>\n",
       "      <th>datasource</th>\n",
       "      <th>auctioneerID</th>\n",
       "      <th>YearMade</th>\n",
       "      <th>MachineHoursCurrentMeter</th>\n",
       "      <th>saledate</th>\n",
       "      <th>fiModelDesc</th>\n",
       "      <th>...</th>\n",
       "      <th>fiProductClassDesc</th>\n",
       "      <th>state</th>\n",
       "      <th>ProductGroup</th>\n",
       "      <th>ProductGroupDesc</th>\n",
       "      <th>Enclosure</th>\n",
       "      <th>Forks</th>\n",
       "      <th>Ride_Control</th>\n",
       "      <th>Transmission</th>\n",
       "      <th>Hydraulics</th>\n",
       "      <th>Coupler</th>\n",
       "    </tr>\n",
       "  </thead>\n",
       "  <tbody>\n",
       "    <tr>\n",
       "      <th>0</th>\n",
       "      <td>1139246</td>\n",
       "      <td>66000.0</td>\n",
       "      <td>999089</td>\n",
       "      <td>3157</td>\n",
       "      <td>121</td>\n",
       "      <td>3.0</td>\n",
       "      <td>2004</td>\n",
       "      <td>68.0</td>\n",
       "      <td>2006-11-16</td>\n",
       "      <td>521D</td>\n",
       "      <td>...</td>\n",
       "      <td>Wheel Loader - 110.0 to 120.0 Horsepower</td>\n",
       "      <td>Alabama</td>\n",
       "      <td>WL</td>\n",
       "      <td>Wheel Loader</td>\n",
       "      <td>EROPS w AC</td>\n",
       "      <td>None or Unspecified</td>\n",
       "      <td>None or Unspecified</td>\n",
       "      <td>NaN</td>\n",
       "      <td>2 Valve</td>\n",
       "      <td>None or Unspecified</td>\n",
       "    </tr>\n",
       "    <tr>\n",
       "      <th>1</th>\n",
       "      <td>1139248</td>\n",
       "      <td>57000.0</td>\n",
       "      <td>117657</td>\n",
       "      <td>77</td>\n",
       "      <td>121</td>\n",
       "      <td>3.0</td>\n",
       "      <td>1996</td>\n",
       "      <td>4640.0</td>\n",
       "      <td>2004-03-26</td>\n",
       "      <td>950FII</td>\n",
       "      <td>...</td>\n",
       "      <td>Wheel Loader - 150.0 to 175.0 Horsepower</td>\n",
       "      <td>North Carolina</td>\n",
       "      <td>WL</td>\n",
       "      <td>Wheel Loader</td>\n",
       "      <td>EROPS w AC</td>\n",
       "      <td>None or Unspecified</td>\n",
       "      <td>None or Unspecified</td>\n",
       "      <td>NaN</td>\n",
       "      <td>2 Valve</td>\n",
       "      <td>None or Unspecified</td>\n",
       "    </tr>\n",
       "    <tr>\n",
       "      <th>2</th>\n",
       "      <td>1139249</td>\n",
       "      <td>10000.0</td>\n",
       "      <td>434808</td>\n",
       "      <td>7009</td>\n",
       "      <td>121</td>\n",
       "      <td>3.0</td>\n",
       "      <td>2001</td>\n",
       "      <td>2838.0</td>\n",
       "      <td>2004-02-26</td>\n",
       "      <td>226</td>\n",
       "      <td>...</td>\n",
       "      <td>Skid Steer Loader - 1351.0 to 1601.0 Lb Operat...</td>\n",
       "      <td>New York</td>\n",
       "      <td>SSL</td>\n",
       "      <td>Skid Steer Loaders</td>\n",
       "      <td>OROPS</td>\n",
       "      <td>None or Unspecified</td>\n",
       "      <td>NaN</td>\n",
       "      <td>NaN</td>\n",
       "      <td>Auxiliary</td>\n",
       "      <td>None or Unspecified</td>\n",
       "    </tr>\n",
       "    <tr>\n",
       "      <th>3</th>\n",
       "      <td>1139251</td>\n",
       "      <td>38500.0</td>\n",
       "      <td>1026470</td>\n",
       "      <td>332</td>\n",
       "      <td>121</td>\n",
       "      <td>3.0</td>\n",
       "      <td>2001</td>\n",
       "      <td>3486.0</td>\n",
       "      <td>2011-05-19</td>\n",
       "      <td>PC120-6E</td>\n",
       "      <td>...</td>\n",
       "      <td>Hydraulic Excavator, Track - 12.0 to 14.0 Metr...</td>\n",
       "      <td>Texas</td>\n",
       "      <td>TEX</td>\n",
       "      <td>Track Excavators</td>\n",
       "      <td>EROPS w AC</td>\n",
       "      <td>NaN</td>\n",
       "      <td>NaN</td>\n",
       "      <td>NaN</td>\n",
       "      <td>2 Valve</td>\n",
       "      <td>None or Unspecified</td>\n",
       "    </tr>\n",
       "    <tr>\n",
       "      <th>4</th>\n",
       "      <td>1139253</td>\n",
       "      <td>11000.0</td>\n",
       "      <td>1057373</td>\n",
       "      <td>17311</td>\n",
       "      <td>121</td>\n",
       "      <td>3.0</td>\n",
       "      <td>2007</td>\n",
       "      <td>722.0</td>\n",
       "      <td>2009-07-23</td>\n",
       "      <td>S175</td>\n",
       "      <td>...</td>\n",
       "      <td>Skid Steer Loader - 1601.0 to 1751.0 Lb Operat...</td>\n",
       "      <td>New York</td>\n",
       "      <td>SSL</td>\n",
       "      <td>Skid Steer Loaders</td>\n",
       "      <td>EROPS</td>\n",
       "      <td>None or Unspecified</td>\n",
       "      <td>NaN</td>\n",
       "      <td>NaN</td>\n",
       "      <td>Auxiliary</td>\n",
       "      <td>None or Unspecified</td>\n",
       "    </tr>\n",
       "  </tbody>\n",
       "</table>\n",
       "<p>5 rows × 23 columns</p>\n",
       "</div>"
      ],
      "text/plain": [
       "   SalesID  SalePrice  MachineID  ModelID  datasource  auctioneerID  YearMade  \\\n",
       "0  1139246    66000.0     999089     3157         121           3.0      2004   \n",
       "1  1139248    57000.0     117657       77         121           3.0      1996   \n",
       "2  1139249    10000.0     434808     7009         121           3.0      2001   \n",
       "3  1139251    38500.0    1026470      332         121           3.0      2001   \n",
       "4  1139253    11000.0    1057373    17311         121           3.0      2007   \n",
       "\n",
       "   MachineHoursCurrentMeter   saledate fiModelDesc  ...  \\\n",
       "0                      68.0 2006-11-16        521D  ...   \n",
       "1                    4640.0 2004-03-26      950FII  ...   \n",
       "2                    2838.0 2004-02-26         226  ...   \n",
       "3                    3486.0 2011-05-19    PC120-6E  ...   \n",
       "4                     722.0 2009-07-23        S175  ...   \n",
       "\n",
       "                                  fiProductClassDesc           state  \\\n",
       "0           Wheel Loader - 110.0 to 120.0 Horsepower         Alabama   \n",
       "1           Wheel Loader - 150.0 to 175.0 Horsepower  North Carolina   \n",
       "2  Skid Steer Loader - 1351.0 to 1601.0 Lb Operat...        New York   \n",
       "3  Hydraulic Excavator, Track - 12.0 to 14.0 Metr...           Texas   \n",
       "4  Skid Steer Loader - 1601.0 to 1751.0 Lb Operat...        New York   \n",
       "\n",
       "  ProductGroup    ProductGroupDesc   Enclosure                Forks  \\\n",
       "0           WL        Wheel Loader  EROPS w AC  None or Unspecified   \n",
       "1           WL        Wheel Loader  EROPS w AC  None or Unspecified   \n",
       "2          SSL  Skid Steer Loaders       OROPS  None or Unspecified   \n",
       "3          TEX    Track Excavators  EROPS w AC                  NaN   \n",
       "4          SSL  Skid Steer Loaders       EROPS  None or Unspecified   \n",
       "\n",
       "          Ride_Control Transmission Hydraulics              Coupler  \n",
       "0  None or Unspecified          NaN    2 Valve  None or Unspecified  \n",
       "1  None or Unspecified          NaN    2 Valve  None or Unspecified  \n",
       "2                  NaN          NaN  Auxiliary  None or Unspecified  \n",
       "3                  NaN          NaN    2 Valve  None or Unspecified  \n",
       "4                  NaN          NaN  Auxiliary  None or Unspecified  \n",
       "\n",
       "[5 rows x 23 columns]"
      ]
     },
     "execution_count": 45,
     "metadata": {},
     "output_type": "execute_result"
    }
   ],
   "source": [
    "#DataFrame original\n",
    "df.head()"
   ]
  },
  {
   "cell_type": "code",
   "execution_count": 51,
   "id": "ef347f24",
   "metadata": {},
   "outputs": [
    {
     "data": {
      "text/html": [
       "<div>\n",
       "<style scoped>\n",
       "    .dataframe tbody tr th:only-of-type {\n",
       "        vertical-align: middle;\n",
       "    }\n",
       "\n",
       "    .dataframe tbody tr th {\n",
       "        vertical-align: top;\n",
       "    }\n",
       "\n",
       "    .dataframe thead th {\n",
       "        text-align: right;\n",
       "    }\n",
       "</style>\n",
       "<table border=\"1\" class=\"dataframe\">\n",
       "  <thead>\n",
       "    <tr style=\"text-align: right;\">\n",
       "      <th></th>\n",
       "      <th>SalePrice</th>\n",
       "      <th>YearMade</th>\n",
       "      <th>saledate</th>\n",
       "      <th>ProductSize</th>\n",
       "      <th>state</th>\n",
       "      <th>ProductGroup</th>\n",
       "      <th>Enclosure</th>\n",
       "      <th>Hydraulics</th>\n",
       "    </tr>\n",
       "  </thead>\n",
       "  <tbody>\n",
       "    <tr>\n",
       "      <th>0</th>\n",
       "      <td>66000.0</td>\n",
       "      <td>2004</td>\n",
       "      <td>2006-11-16</td>\n",
       "      <td>NaN</td>\n",
       "      <td>Alabama</td>\n",
       "      <td>WL</td>\n",
       "      <td>EROPS w AC</td>\n",
       "      <td>2 Valve</td>\n",
       "    </tr>\n",
       "    <tr>\n",
       "      <th>1</th>\n",
       "      <td>57000.0</td>\n",
       "      <td>1996</td>\n",
       "      <td>2004-03-26</td>\n",
       "      <td>Medium</td>\n",
       "      <td>North Carolina</td>\n",
       "      <td>WL</td>\n",
       "      <td>EROPS w AC</td>\n",
       "      <td>2 Valve</td>\n",
       "    </tr>\n",
       "    <tr>\n",
       "      <th>2</th>\n",
       "      <td>10000.0</td>\n",
       "      <td>2001</td>\n",
       "      <td>2004-02-26</td>\n",
       "      <td>NaN</td>\n",
       "      <td>New York</td>\n",
       "      <td>SSL</td>\n",
       "      <td>OROPS</td>\n",
       "      <td>Auxiliary</td>\n",
       "    </tr>\n",
       "    <tr>\n",
       "      <th>3</th>\n",
       "      <td>38500.0</td>\n",
       "      <td>2001</td>\n",
       "      <td>2011-05-19</td>\n",
       "      <td>Small</td>\n",
       "      <td>Texas</td>\n",
       "      <td>TEX</td>\n",
       "      <td>EROPS w AC</td>\n",
       "      <td>2 Valve</td>\n",
       "    </tr>\n",
       "    <tr>\n",
       "      <th>4</th>\n",
       "      <td>11000.0</td>\n",
       "      <td>2007</td>\n",
       "      <td>2009-07-23</td>\n",
       "      <td>NaN</td>\n",
       "      <td>New York</td>\n",
       "      <td>SSL</td>\n",
       "      <td>EROPS</td>\n",
       "      <td>Auxiliary</td>\n",
       "    </tr>\n",
       "  </tbody>\n",
       "</table>\n",
       "</div>"
      ],
      "text/plain": [
       "   SalePrice  YearMade   saledate ProductSize           state ProductGroup  \\\n",
       "0    66000.0      2004 2006-11-16         NaN         Alabama           WL   \n",
       "1    57000.0      1996 2004-03-26      Medium  North Carolina           WL   \n",
       "2    10000.0      2001 2004-02-26         NaN        New York          SSL   \n",
       "3    38500.0      2001 2011-05-19       Small           Texas          TEX   \n",
       "4    11000.0      2007 2009-07-23         NaN        New York          SSL   \n",
       "\n",
       "    Enclosure Hydraulics  \n",
       "0  EROPS w AC    2 Valve  \n",
       "1  EROPS w AC    2 Valve  \n",
       "2       OROPS  Auxiliary  \n",
       "3  EROPS w AC    2 Valve  \n",
       "4       EROPS  Auxiliary  "
      ]
     },
     "execution_count": 51,
     "metadata": {},
     "output_type": "execute_result"
    }
   ],
   "source": [
    "#As colunas que eu escolhidas anteriomente eu vou manter, menos as colunas que\n",
    "#eu achar que estão mais atrapalhando do que ajudando, que no caso são a coluna de Desc e Transmission(deu o maior trabalho escolher '-')\n",
    "\n",
    "#Colunas que vou manter\n",
    "colunas_mantidas = ['SalePrice','YearMade','saledate','ProductSize','state','ProductGroup','Enclosure','Hydraulics']\n",
    "\n",
    "#Filtrando meus dados.\n",
    "testes_df_v1 = df[colunas_mantidas]\n",
    "\n",
    "#Entradas.\n",
    "testes_df_v1.head()"
   ]
  },
  {
   "cell_type": "code",
   "execution_count": 52,
   "id": "2a36b81d",
   "metadata": {},
   "outputs": [
    {
     "data": {
      "text/html": [
       "<div>\n",
       "<style scoped>\n",
       "    .dataframe tbody tr th:only-of-type {\n",
       "        vertical-align: middle;\n",
       "    }\n",
       "\n",
       "    .dataframe tbody tr th {\n",
       "        vertical-align: top;\n",
       "    }\n",
       "\n",
       "    .dataframe thead th {\n",
       "        text-align: right;\n",
       "    }\n",
       "</style>\n",
       "<table border=\"1\" class=\"dataframe\">\n",
       "  <thead>\n",
       "    <tr style=\"text-align: right;\">\n",
       "      <th></th>\n",
       "      <th>SalePrice</th>\n",
       "      <th>YearMade</th>\n",
       "      <th>ProductSize</th>\n",
       "      <th>state</th>\n",
       "      <th>ProductGroup</th>\n",
       "      <th>Enclosure</th>\n",
       "      <th>Hydraulics</th>\n",
       "      <th>Year</th>\n",
       "      <th>Month</th>\n",
       "      <th>Day</th>\n",
       "    </tr>\n",
       "  </thead>\n",
       "  <tbody>\n",
       "    <tr>\n",
       "      <th>0</th>\n",
       "      <td>66000.0</td>\n",
       "      <td>2004</td>\n",
       "      <td>NaN</td>\n",
       "      <td>Alabama</td>\n",
       "      <td>WL</td>\n",
       "      <td>EROPS w AC</td>\n",
       "      <td>2 Valve</td>\n",
       "      <td>2006</td>\n",
       "      <td>11</td>\n",
       "      <td>16</td>\n",
       "    </tr>\n",
       "    <tr>\n",
       "      <th>1</th>\n",
       "      <td>57000.0</td>\n",
       "      <td>1996</td>\n",
       "      <td>Medium</td>\n",
       "      <td>North Carolina</td>\n",
       "      <td>WL</td>\n",
       "      <td>EROPS w AC</td>\n",
       "      <td>2 Valve</td>\n",
       "      <td>2004</td>\n",
       "      <td>3</td>\n",
       "      <td>26</td>\n",
       "    </tr>\n",
       "    <tr>\n",
       "      <th>2</th>\n",
       "      <td>10000.0</td>\n",
       "      <td>2001</td>\n",
       "      <td>NaN</td>\n",
       "      <td>New York</td>\n",
       "      <td>SSL</td>\n",
       "      <td>OROPS</td>\n",
       "      <td>Auxiliary</td>\n",
       "      <td>2004</td>\n",
       "      <td>2</td>\n",
       "      <td>26</td>\n",
       "    </tr>\n",
       "    <tr>\n",
       "      <th>3</th>\n",
       "      <td>38500.0</td>\n",
       "      <td>2001</td>\n",
       "      <td>Small</td>\n",
       "      <td>Texas</td>\n",
       "      <td>TEX</td>\n",
       "      <td>EROPS w AC</td>\n",
       "      <td>2 Valve</td>\n",
       "      <td>2011</td>\n",
       "      <td>5</td>\n",
       "      <td>19</td>\n",
       "    </tr>\n",
       "    <tr>\n",
       "      <th>4</th>\n",
       "      <td>11000.0</td>\n",
       "      <td>2007</td>\n",
       "      <td>NaN</td>\n",
       "      <td>New York</td>\n",
       "      <td>SSL</td>\n",
       "      <td>EROPS</td>\n",
       "      <td>Auxiliary</td>\n",
       "      <td>2009</td>\n",
       "      <td>7</td>\n",
       "      <td>23</td>\n",
       "    </tr>\n",
       "  </tbody>\n",
       "</table>\n",
       "</div>"
      ],
      "text/plain": [
       "   SalePrice  YearMade ProductSize           state ProductGroup   Enclosure  \\\n",
       "0    66000.0      2004         NaN         Alabama           WL  EROPS w AC   \n",
       "1    57000.0      1996      Medium  North Carolina           WL  EROPS w AC   \n",
       "2    10000.0      2001         NaN        New York          SSL       OROPS   \n",
       "3    38500.0      2001       Small           Texas          TEX  EROPS w AC   \n",
       "4    11000.0      2007         NaN        New York          SSL       EROPS   \n",
       "\n",
       "  Hydraulics  Year  Month  Day  \n",
       "0    2 Valve  2006     11   16  \n",
       "1    2 Valve  2004      3   26  \n",
       "2  Auxiliary  2004      2   26  \n",
       "3    2 Valve  2011      5   19  \n",
       "4  Auxiliary  2009      7   23  "
      ]
     },
     "execution_count": 52,
     "metadata": {},
     "output_type": "execute_result"
    }
   ],
   "source": [
    "#Pegando as informação atraves da coluna de saledate\n",
    "testes_df_v1['Year'] = testes_df_v1['saledate'].dt.year\n",
    "testes_df_v1['Month'] = testes_df_v1['saledate'].dt.month\n",
    "testes_df_v1['Day'] = testes_df_v1['saledate'].dt.day\n",
    "\n",
    "#Como já temos essas informações separadas, agora podemos retirar a coluna de saledate, pois ela se tornou irrelevante.\n",
    "testes_df_v1.drop('saledate',axis=1,inplace=True)\n",
    "\n",
    "#Exibindo\n",
    "testes_df_v1.head()"
   ]
  },
  {
   "cell_type": "code",
   "execution_count": 53,
   "id": "cfb99059",
   "metadata": {},
   "outputs": [
    {
     "data": {
      "text/plain": [
       "SalePrice            0\n",
       "YearMade             0\n",
       "ProductSize     216605\n",
       "state                0\n",
       "ProductGroup         0\n",
       "Enclosure          334\n",
       "Hydraulics       82565\n",
       "Year                 0\n",
       "Month                0\n",
       "Day                  0\n",
       "dtype: int64"
      ]
     },
     "execution_count": 53,
     "metadata": {},
     "output_type": "execute_result"
    }
   ],
   "source": [
    "#Verificando os valores nulos\n",
    "testes_df_v1.isnull().sum()"
   ]
  },
  {
   "cell_type": "code",
   "execution_count": 54,
   "id": "e8a55ae9",
   "metadata": {},
   "outputs": [
    {
     "data": {
      "text/plain": [
       "SalePrice       0\n",
       "YearMade        0\n",
       "ProductSize     0\n",
       "state           0\n",
       "ProductGroup    0\n",
       "Enclosure       0\n",
       "Hydraulics      0\n",
       "Year            0\n",
       "Month           0\n",
       "Day             0\n",
       "dtype: int64"
      ]
     },
     "execution_count": 54,
     "metadata": {},
     "output_type": "execute_result"
    }
   ],
   "source": [
    "#Como são valores de texto, eu vou trocar pelo valor mais frequente\n",
    "testes_df_v1 = testes_df_v1.fillna(testes_df_v1['ProductSize'].mode()[0])\n",
    "testes_df_v1 = testes_df_v1.fillna(testes_df_v1['Hydraulics'].mode()[0])\n",
    "testes_df_v1 = testes_df_v1.fillna(testes_df_v1['Enclosure'].mode()[0])\n",
    "\n",
    "#Verificando novamente se ainda existe valores nulos\n",
    "testes_df_v2.isnull().sum()"
   ]
  },
  {
   "cell_type": "markdown",
   "id": "df18f7ed",
   "metadata": {},
   "source": [
    "### Agrupar categorias\n",
    "- Como vamos transforma em dummy, vamos acabar tendo muitassss colunas, e para isso não ocorrer, vamos agrupar mais nossos dados, por na coluna de Hydraulics(abaixo), podemos ver que a maioria dos valores estão nos 5 primeiros, ou seja, o resto das informaçõs não vao ter praticamente nenhuma relevancia para o meu modelo, então e por isso que eu vou agrupar."
   ]
  },
  {
   "cell_type": "code",
   "execution_count": 56,
   "id": "8e3f3fdf",
   "metadata": {},
   "outputs": [
    {
     "data": {
      "text/plain": [
       "2 Valve                145317\n",
       "Standard               106515\n",
       "Medium                  82565\n",
       "Auxiliary               43224\n",
       "Base + 1 Function       25511\n",
       "3 Valve                  5807\n",
       "4 Valve                  3077\n",
       "Base + 3 Function         311\n",
       "Base + 2 Function         132\n",
       "Base + 5 Function          94\n",
       "Base + 4 Function          81\n",
       "Base + 6 Function          54\n",
       "None or Unspecified        10\n",
       "Name: Hydraulics, dtype: int64"
      ]
     },
     "execution_count": 56,
     "metadata": {},
     "output_type": "execute_result"
    }
   ],
   "source": [
    "#Analisando em forma numerica\n",
    "testes_df_v1['Hydraulics'].value_counts()"
   ]
  },
  {
   "cell_type": "code",
   "execution_count": 63,
   "id": "9212ee08",
   "metadata": {},
   "outputs": [
    {
     "data": {
      "image/png": "[encoded data removed]",
      "text/plain": [
       "<Figure size 1080x504 with 1 Axes>"
      ]
     },
     "metadata": {},
     "output_type": "display_data"
    }
   ],
   "source": [
    "##Analisando em forma grafica\n",
    "plt.figure(figsize=(15,7))\n",
    "sns.barplot(\n",
    "    x=testes_df_v1['Hydraulics'].value_counts().index,\n",
    "    y=testes_df_v1['Hydraulics'].value_counts()\n",
    ");"
   ]
  },
  {
   "cell_type": "markdown",
   "id": "62d0cc96",
   "metadata": {},
   "source": [
    "- Como podemos notar, os valores quase não aparecem."
   ]
  },
  {
   "cell_type": "code",
   "execution_count": 65,
   "id": "96c5affa",
   "metadata": {},
   "outputs": [
    {
     "data": {
      "text/plain": [
       "<AxesSubplot:ylabel='Hydraulics'>"
      ]
     },
     "execution_count": 65,
     "metadata": {},
     "output_type": "execute_result"
    },
    {
     "data": {
      "image/png": "[encoded data removed]",
      "text/plain": [
       "<Figure size 1080x504 with 1 Axes>"
      ]
     },
     "metadata": {},
     "output_type": "display_data"
    }
   ],
   "source": [
    "#Agrupando coluna de Hydraulics\n",
    "\n",
    "#Valor, vamos usar uma regra de quantas quantidades devem ter, e se elas não baterem essa quantidade, eu vou agrupar\n",
    "hydraulics = testes_df_v1['Hydraulics'].value_counts()\n",
    "\n",
    "#Lista que vai receber as colunas\n",
    "colunas = []\n",
    "\n",
    "\n",
    "#Pecorrendo a lista\n",
    "for tipo in hydraulics.index:\n",
    "    #O tipo vai ser o nome da coluna, e atraves dela pegar o valor da coluna.\n",
    "    if hydraulics[tipo] < 10000:\n",
    "        #adicionado na minha lista vazia\n",
    "        colunas.append(tipo)\n",
    "        \n",
    "\n",
    "#Modificando a minha base para agrupar esses valores\n",
    "for tipo in colunas:\n",
    "    testes_df_v1.loc[testes_df_v1['Hydraulics'] == tipo,'Hydraulics'] = 'Outros'\n",
    "    \n",
    "    \n",
    "##Analisando em forma grafica\n",
    "plt.figure(figsize=(15,7))\n",
    "sns.barplot(\n",
    "    x=testes_df_v1['Hydraulics'].value_counts().index,\n",
    "    y=testes_df_v1['Hydraulics'].value_counts()\n",
    ")"
   ]
  },
  {
   "cell_type": "markdown",
   "id": "42574e57",
   "metadata": {},
   "source": [
    "- Bem melhor agora, né? e se parece bom para nos, imagina para o modelo, ele vai agradecer."
   ]
  },
  {
   "cell_type": "markdown",
   "id": "19456ce0",
   "metadata": {},
   "source": [
    "---"
   ]
  },
  {
   "cell_type": "markdown",
   "id": "9d76ad37",
   "metadata": {},
   "source": [
    "- Agrupando a coluna de Enclosure"
   ]
  },
  {
   "cell_type": "code",
   "execution_count": 66,
   "id": "d4da6478",
   "metadata": {},
   "outputs": [
    {
     "data": {
      "text/plain": [
       "OROPS                  177971\n",
       "EROPS                  141769\n",
       "EROPS w AC              92601\n",
       "Medium                    334\n",
       "EROPS AC                   18\n",
       "NO ROPS                     3\n",
       "None or Unspecified         2\n",
       "Name: Enclosure, dtype: int64"
      ]
     },
     "execution_count": 66,
     "metadata": {},
     "output_type": "execute_result"
    }
   ],
   "source": [
    "#Analisando em forma numerica\n",
    "testes_df_v1['Enclosure'].value_counts()"
   ]
  },
  {
   "cell_type": "code",
   "execution_count": 67,
   "id": "ca4e59cd",
   "metadata": {},
   "outputs": [
    {
     "data": {
      "image/png": "[encoded data removed]",
      "text/plain": [
       "<Figure size 1080x504 with 1 Axes>"
      ]
     },
     "metadata": {},
     "output_type": "display_data"
    }
   ],
   "source": [
    "##Analisando em forma grafica\n",
    "plt.figure(figsize=(15,7))\n",
    "sns.barplot(\n",
    "    x=testes_df_v1['Enclosure'].value_counts().index,\n",
    "    y=testes_df_v1['Enclosure'].value_counts()\n",
    ");"
   ]
  },
  {
   "cell_type": "markdown",
   "id": "521e7a15",
   "metadata": {},
   "source": [
    "- Semelhante a analise que fizemos acima, os valores nem aparecem, então vamos agrupar."
   ]
  },
  {
   "cell_type": "code",
   "execution_count": 68,
   "id": "3cd433ec",
   "metadata": {},
   "outputs": [
    {
     "data": {
      "text/plain": [
       "<AxesSubplot:ylabel='Enclosure'>"
      ]
     },
     "execution_count": 68,
     "metadata": {},
     "output_type": "execute_result"
    },
    {
     "data": {
      "image/png": "[encoded data removed]",
      "text/plain": [
       "<Figure size 1080x504 with 1 Axes>"
      ]
     },
     "metadata": {},
     "output_type": "display_data"
    }
   ],
   "source": [
    "#Agrupando coluna de Hydraulics\n",
    "\n",
    "#Valor, vamos usar uma regra de quantas quantidades devem ter, e se elas não baterem essa quantidade, eu vou agrupar\n",
    "enclosure = testes_df_v1['Enclosure'].value_counts()\n",
    "\n",
    "#Lista que vai receber as colunas\n",
    "colunas = []\n",
    "\n",
    "\n",
    "#Pecorrendo a lista\n",
    "for tipo in enclosure.index:\n",
    "    #O tipo vai ser o nome da coluna, e atraves dela pegar o valor da coluna.\n",
    "    if enclosure[tipo] < 10000:\n",
    "        #adicionado na minha lista vazia\n",
    "        colunas.append(tipo)\n",
    "        \n",
    "\n",
    "#Modificando a minha base para agrupar esses valores\n",
    "for tipo in colunas:\n",
    "    testes_df_v1.loc[testes_df_v1['Enclosure'] == tipo,'Enclosure'] = 'Outros'\n",
    "    \n",
    "    \n",
    "##Analisando em forma grafica\n",
    "plt.figure(figsize=(15,7))\n",
    "sns.barplot(\n",
    "    x=testes_df_v1['Enclosure'].value_counts().index,\n",
    "    y=testes_df_v1['Enclosure'].value_counts()\n",
    ")"
   ]
  },
  {
   "cell_type": "markdown",
   "id": "ff2056d3",
   "metadata": {},
   "source": [
    "- Como podemos ver mesmo agrupando os valores, eles ainda não tem uma relevancia muito grande, eles ainda estão sendo esmagadores pelos valores maiores."
   ]
  },
  {
   "cell_type": "markdown",
   "id": "60d1794f",
   "metadata": {},
   "source": [
    "---"
   ]
  },
  {
   "cell_type": "markdown",
   "id": "c6844580",
   "metadata": {},
   "source": [
    "- Agrupando a coluna de State"
   ]
  },
  {
   "cell_type": "code",
   "execution_count": 60,
   "id": "f3c78171",
   "metadata": {},
   "outputs": [
    {
     "data": {
      "text/plain": [
       "Florida           67320\n",
       "Texas             53110\n",
       "California        29761\n",
       "Washington        16222\n",
       "Georgia           14633\n",
       "Maryland          13322\n",
       "Mississippi       13240\n",
       "Ohio              12369\n",
       "Illinois          11540\n",
       "Colorado          11529\n",
       "New Jersey        11156\n",
       "North Carolina    10636\n",
       "Tennessee         10298\n",
       "Alabama           10292\n",
       "Pennsylvania      10234\n",
       "South Carolina     9951\n",
       "Arizona            9364\n",
       "New York           8639\n",
       "Connecticut        8276\n",
       "Minnesota          7885\n",
       "Missouri           7178\n",
       "Nevada             6932\n",
       "Louisiana          6627\n",
       "Kentucky           5351\n",
       "Maine              5096\n",
       "Indiana            4124\n",
       "Arkansas           3933\n",
       "New Mexico         3631\n",
       "Utah               3046\n",
       "Unspecified        2801\n",
       "Wisconsin          2745\n",
       "New Hampshire      2738\n",
       "Virginia           2353\n",
       "Idaho              2025\n",
       "Oregon             1911\n",
       "Michigan           1831\n",
       "Wyoming            1672\n",
       "Iowa               1336\n",
       "Montana            1336\n",
       "Oklahoma           1326\n",
       "Nebraska            866\n",
       "West Virginia       840\n",
       "Kansas              667\n",
       "Delaware            510\n",
       "North Dakota        480\n",
       "Alaska              430\n",
       "Massachusetts       347\n",
       "Vermont             300\n",
       "South Dakota        244\n",
       "Hawaii              118\n",
       "Rhode Island         83\n",
       "Puerto Rico          42\n",
       "Washington DC         2\n",
       "Name: state, dtype: int64"
      ]
     },
     "execution_count": 60,
     "metadata": {},
     "output_type": "execute_result"
    }
   ],
   "source": [
    "#Analisando em forma numerica\n",
    "testes_df_v1['state'].value_counts()"
   ]
  },
  {
   "cell_type": "code",
   "execution_count": 69,
   "id": "0f93786f",
   "metadata": {},
   "outputs": [
    {
     "data": {
      "image/png": "[encoded data removed]",
      "text/plain": [
       "<Figure size 1080x504 with 1 Axes>"
      ]
     },
     "metadata": {},
     "output_type": "display_data"
    }
   ],
   "source": [
    "##Analisando em forma grafica\n",
    "plt.figure(figsize=(15,7))\n",
    "sns.barplot(\n",
    "    x=testes_df_v1['state'].value_counts().index,\n",
    "    y=testes_df_v1['state'].value_counts()\n",
    ");"
   ]
  },
  {
   "cell_type": "markdown",
   "id": "0f84a708",
   "metadata": {},
   "source": [
    "- Como podemos ver, os valores menores praticamente nem aparecem então, vamos agrupar para melhorar essas proporçoes"
   ]
  },
  {
   "cell_type": "code",
   "execution_count": 74,
   "id": "2923655c",
   "metadata": {},
   "outputs": [
    {
     "data": {
      "image/png": "[encoded data removed]",
      "text/plain": [
       "<Figure size 1080x504 with 1 Axes>"
      ]
     },
     "metadata": {},
     "output_type": "display_data"
    }
   ],
   "source": [
    "#Agrupando coluna de Hydraulics\n",
    "\n",
    "#Valor, vamos usar uma regra de quantas quantidades devem ter, e se elas não baterem essa quantidade, eu vou agrupar\n",
    "state = testes_df_v1['state'].value_counts()\n",
    "\n",
    "#Lista que vai receber as colunas\n",
    "colunas = []\n",
    "\n",
    "\n",
    "#Pecorrendo a lista\n",
    "for tipo in state.index:\n",
    "    #O tipo vai ser o nome da coluna, e atraves dela pegar o valor da coluna.\n",
    "    \n",
    "    #A regra vai ser valores menores que 4 mil\n",
    "    if state[tipo] < 4000:\n",
    "        #adicionado na minha lista vazia\n",
    "        colunas.append(tipo)\n",
    "        \n",
    "\n",
    "#Modificando a minha base para agrupar esses valores\n",
    "for tipo in colunas:\n",
    "    testes_df_v1.loc[testes_df_v1['state'] == tipo,'state'] = 'Outros'\n",
    "    \n",
    "    \n",
    "##Analisando em forma grafica\n",
    "plt.figure(figsize=(15,7))\n",
    "sns.barplot(\n",
    "    x=testes_df_v2['state'].value_counts().index,\n",
    "    y=testes_df_v2['state'].value_counts()\n",
    ");"
   ]
  },
  {
   "cell_type": "markdown",
   "id": "ad8b9513",
   "metadata": {},
   "source": [
    "- Bem melhor agora agora, temos menos categorias então agora podemos transformar essas colunas em dummy."
   ]
  },
  {
   "cell_type": "code",
   "execution_count": 75,
   "id": "80a5f18c",
   "metadata": {},
   "outputs": [],
   "source": [
    "#Parte importante, eu vou transformar as colunas categoricas em variaveis dummy\n",
    "\n",
    "#Primeiro eu vou lista as colunas categoricas, na mão mesmo\n",
    "lista_cat = ['ProductSize','ProductGroup','Enclosure','Hydraulics','state']\n",
    "\n",
    "#agora com a ajuda do pandas e so transformar em dummy :)\n",
    "colunas_categorias = ['ProductSize','ProductGroup','Enclosure','Hydraulics','state']\n",
    "testes_df_v1 = pd.get_dummies(data=testes_df_v2, columns= colunas_categorias)"
   ]
  },
  {
   "cell_type": "code",
   "execution_count": 77,
   "id": "8cbe6b15",
   "metadata": {},
   "outputs": [
    {
     "data": {
      "text/html": [
       "<div>\n",
       "<style scoped>\n",
       "    .dataframe tbody tr th:only-of-type {\n",
       "        vertical-align: middle;\n",
       "    }\n",
       "\n",
       "    .dataframe tbody tr th {\n",
       "        vertical-align: top;\n",
       "    }\n",
       "\n",
       "    .dataframe thead th {\n",
       "        text-align: right;\n",
       "    }\n",
       "</style>\n",
       "<table border=\"1\" class=\"dataframe\">\n",
       "  <thead>\n",
       "    <tr style=\"text-align: right;\">\n",
       "      <th></th>\n",
       "      <th>SalePrice</th>\n",
       "      <th>YearMade</th>\n",
       "      <th>Year</th>\n",
       "      <th>Month</th>\n",
       "      <th>Day</th>\n",
       "      <th>ProductSize_Compact</th>\n",
       "      <th>ProductSize_Large</th>\n",
       "      <th>ProductSize_Large / Medium</th>\n",
       "      <th>ProductSize_Medium</th>\n",
       "      <th>ProductSize_Mini</th>\n",
       "      <th>...</th>\n",
       "      <th>state_Maryland</th>\n",
       "      <th>state_Mississippi</th>\n",
       "      <th>state_New Jersey</th>\n",
       "      <th>state_North Carolina</th>\n",
       "      <th>state_Ohio</th>\n",
       "      <th>state_Outros</th>\n",
       "      <th>state_Pennsylvania</th>\n",
       "      <th>state_Tennessee</th>\n",
       "      <th>state_Texas</th>\n",
       "      <th>state_Washington</th>\n",
       "    </tr>\n",
       "  </thead>\n",
       "  <tbody>\n",
       "    <tr>\n",
       "      <th>0</th>\n",
       "      <td>66000.0</td>\n",
       "      <td>2004</td>\n",
       "      <td>2006</td>\n",
       "      <td>11</td>\n",
       "      <td>16</td>\n",
       "      <td>0</td>\n",
       "      <td>0</td>\n",
       "      <td>0</td>\n",
       "      <td>1</td>\n",
       "      <td>0</td>\n",
       "      <td>...</td>\n",
       "      <td>0</td>\n",
       "      <td>0</td>\n",
       "      <td>0</td>\n",
       "      <td>0</td>\n",
       "      <td>0</td>\n",
       "      <td>0</td>\n",
       "      <td>0</td>\n",
       "      <td>0</td>\n",
       "      <td>0</td>\n",
       "      <td>0</td>\n",
       "    </tr>\n",
       "    <tr>\n",
       "      <th>1</th>\n",
       "      <td>57000.0</td>\n",
       "      <td>1996</td>\n",
       "      <td>2004</td>\n",
       "      <td>3</td>\n",
       "      <td>26</td>\n",
       "      <td>0</td>\n",
       "      <td>0</td>\n",
       "      <td>0</td>\n",
       "      <td>1</td>\n",
       "      <td>0</td>\n",
       "      <td>...</td>\n",
       "      <td>0</td>\n",
       "      <td>0</td>\n",
       "      <td>0</td>\n",
       "      <td>1</td>\n",
       "      <td>0</td>\n",
       "      <td>0</td>\n",
       "      <td>0</td>\n",
       "      <td>0</td>\n",
       "      <td>0</td>\n",
       "      <td>0</td>\n",
       "    </tr>\n",
       "    <tr>\n",
       "      <th>2</th>\n",
       "      <td>10000.0</td>\n",
       "      <td>2001</td>\n",
       "      <td>2004</td>\n",
       "      <td>2</td>\n",
       "      <td>26</td>\n",
       "      <td>0</td>\n",
       "      <td>0</td>\n",
       "      <td>0</td>\n",
       "      <td>1</td>\n",
       "      <td>0</td>\n",
       "      <td>...</td>\n",
       "      <td>0</td>\n",
       "      <td>0</td>\n",
       "      <td>0</td>\n",
       "      <td>0</td>\n",
       "      <td>0</td>\n",
       "      <td>1</td>\n",
       "      <td>0</td>\n",
       "      <td>0</td>\n",
       "      <td>0</td>\n",
       "      <td>0</td>\n",
       "    </tr>\n",
       "    <tr>\n",
       "      <th>3</th>\n",
       "      <td>38500.0</td>\n",
       "      <td>2001</td>\n",
       "      <td>2011</td>\n",
       "      <td>5</td>\n",
       "      <td>19</td>\n",
       "      <td>0</td>\n",
       "      <td>0</td>\n",
       "      <td>0</td>\n",
       "      <td>0</td>\n",
       "      <td>0</td>\n",
       "      <td>...</td>\n",
       "      <td>0</td>\n",
       "      <td>0</td>\n",
       "      <td>0</td>\n",
       "      <td>0</td>\n",
       "      <td>0</td>\n",
       "      <td>0</td>\n",
       "      <td>0</td>\n",
       "      <td>0</td>\n",
       "      <td>1</td>\n",
       "      <td>0</td>\n",
       "    </tr>\n",
       "    <tr>\n",
       "      <th>4</th>\n",
       "      <td>11000.0</td>\n",
       "      <td>2007</td>\n",
       "      <td>2009</td>\n",
       "      <td>7</td>\n",
       "      <td>23</td>\n",
       "      <td>0</td>\n",
       "      <td>0</td>\n",
       "      <td>0</td>\n",
       "      <td>1</td>\n",
       "      <td>0</td>\n",
       "      <td>...</td>\n",
       "      <td>0</td>\n",
       "      <td>0</td>\n",
       "      <td>0</td>\n",
       "      <td>0</td>\n",
       "      <td>0</td>\n",
       "      <td>1</td>\n",
       "      <td>0</td>\n",
       "      <td>0</td>\n",
       "      <td>0</td>\n",
       "      <td>0</td>\n",
       "    </tr>\n",
       "  </tbody>\n",
       "</table>\n",
       "<p>5 rows × 43 columns</p>\n",
       "</div>"
      ],
      "text/plain": [
       "   SalePrice  YearMade  Year  Month  Day  ProductSize_Compact  \\\n",
       "0    66000.0      2004  2006     11   16                    0   \n",
       "1    57000.0      1996  2004      3   26                    0   \n",
       "2    10000.0      2001  2004      2   26                    0   \n",
       "3    38500.0      2001  2011      5   19                    0   \n",
       "4    11000.0      2007  2009      7   23                    0   \n",
       "\n",
       "   ProductSize_Large  ProductSize_Large / Medium  ProductSize_Medium  \\\n",
       "0                  0                           0                   1   \n",
       "1                  0                           0                   1   \n",
       "2                  0                           0                   1   \n",
       "3                  0                           0                   0   \n",
       "4                  0                           0                   1   \n",
       "\n",
       "   ProductSize_Mini  ...  state_Maryland  state_Mississippi  state_New Jersey  \\\n",
       "0                 0  ...               0                  0                 0   \n",
       "1                 0  ...               0                  0                 0   \n",
       "2                 0  ...               0                  0                 0   \n",
       "3                 0  ...               0                  0                 0   \n",
       "4                 0  ...               0                  0                 0   \n",
       "\n",
       "   state_North Carolina  state_Ohio  state_Outros  state_Pennsylvania  \\\n",
       "0                     0           0             0                   0   \n",
       "1                     1           0             0                   0   \n",
       "2                     0           0             1                   0   \n",
       "3                     0           0             0                   0   \n",
       "4                     0           0             1                   0   \n",
       "\n",
       "   state_Tennessee  state_Texas  state_Washington  \n",
       "0                0            0                 0  \n",
       "1                0            0                 0  \n",
       "2                0            0                 0  \n",
       "3                0            1                 0  \n",
       "4                0            0                 0  \n",
       "\n",
       "[5 rows x 43 columns]"
      ]
     },
     "execution_count": 77,
     "metadata": {},
     "output_type": "execute_result"
    }
   ],
   "source": [
    "#Verificando\n",
    "testes_df_v1.head()"
   ]
  },
  {
   "cell_type": "markdown",
   "id": "1f01609c",
   "metadata": {},
   "source": [
    "- Pra mim está bem melhor assim, então agora vamos para a pratica, vamos testar os modelos novamente "
   ]
  },
  {
   "cell_type": "markdown",
   "id": "441af02b",
   "metadata": {},
   "source": [
    "##### Testando os dados novamente"
   ]
  },
  {
   "cell_type": "code",
   "execution_count": 81,
   "id": "8d2d2ef6",
   "metadata": {},
   "outputs": [],
   "source": [
    "#Criando uma copia do meu df para não prejudicar os dados originais.\n",
    "teste_df_v2 = testes_df_v1.copy()\n",
    "\n",
    "#Separando os dados entre Validação e Train, como podemos ver na descrição do desafio no inicio do projeto\n",
    "def_val = teste_df_v2[teste_df_v2['Year']==2012]\n",
    "def_train = teste_df_v2[teste_df_v2['Year']!=2012]\n",
    "\n",
    "#Seperando entre x e y\n",
    "x_train, y_train = def_train.drop('SalePrice',axis=1), def_train.SalePrice\n",
    "x_valid, y_valid = def_val.drop('SalePrice', axis=1), def_val.SalePrice"
   ]
  },
  {
   "cell_type": "code",
   "execution_count": 82,
   "id": "3f3972b1",
   "metadata": {},
   "outputs": [],
   "source": [
    "#Definindo a função que vai avaliar meu modelo\n",
    "\n",
    "def Avaliarmodelo(nome_modelo,y_test,previsao):\n",
    "    r2 = r2_score(y_test, previsao)\n",
    "    RMSE = np.sqrt(mean_squared_error(y_test,previsao))\n",
    "    RMSLE = np.sqrt(mean_squared_log_error(y_test,previsao))\n",
    "    return f'O Modelo: {nome_modelo}\\nTeve o R² de: {r2:.2%}\\nRMSE de: {RMSE:.2f}\\nRMSLE de: {RMSLE:.2%}'"
   ]
  },
  {
   "cell_type": "code",
   "execution_count": 83,
   "id": "1dc7c1bf",
   "metadata": {},
   "outputs": [],
   "source": [
    "modelo_rf = RandomForestRegressor()\n",
    "modelo_et = ExtraTreesRegressor()\n",
    "modelo_dc = DecisionTreeRegressor()\n",
    "\n",
    "Modelos = {\n",
    "    'RandomForest': modelo_rf,\n",
    "    'ExtraTress':modelo_et,\n",
    "    'Decision Tree Regressor':modelo_dc,\n",
    "}"
   ]
  },
  {
   "cell_type": "code",
   "execution_count": 84,
   "id": "4859fda1",
   "metadata": {},
   "outputs": [
    {
     "name": "stdout",
     "output_type": "stream",
     "text": [
      "O Modelo: RandomForest\n",
      "Teve o R² de: 64.51%\n",
      "RMSE de: 15612.58\n",
      "RMSLE de: 41.17%\n",
      "======================================================================\n",
      "O Modelo: ExtraTress\n",
      "Teve o R² de: 60.53%\n",
      "RMSE de: 16465.67\n",
      "RMSLE de: 42.76%\n",
      "======================================================================\n",
      "O Modelo: Decision Tree Regressor\n",
      "Teve o R² de: 46.55%\n",
      "RMSE de: 19161.10\n",
      "RMSLE de: 51.01%\n",
      "======================================================================\n",
      "Wall time: 8min 50s\n"
     ]
    }
   ],
   "source": [
    "%%time\n",
    "\n",
    "for nome_modelo, Modelo in Modelos.items():\n",
    "    #Treinando o modelo\n",
    "    Modelo.fit(x_train, y_train)\n",
    "    #Prevendo\n",
    "    previsao = Modelo.predict(x_valid)\n",
    "    #Avaliando\n",
    "    print(Avaliarmodelo(nome_modelo,y_valid, previsao))\n",
    "    \n",
    "    print('='*70)"
   ]
  },
  {
   "cell_type": "markdown",
   "id": "0bc66c0e",
   "metadata": {},
   "source": [
    "##### Como podemos notar, o nosso modelo perdeu no quesito de R² e Rmse, isso não é bom pois melhoramos uma métrica e queabramos outras, porém o lance e que eu acho que dessa forma ainda sim, está mais correta, pois da primeira forma que eu fiz, eu usava o codigo da coluna de descrição e não so dela de todas as colunas, ou seja, o modelo considerou ela como valor numerico sendo que são valores de texto, então eu acredito que é por causa disso que tivemos um desempenho melhor na forma de fazer a primeira modelagem, tendo isso em mente eu vou parar por aqui, pois acho que cheguei a um nivel bom, que faz mais sentido e está mais próximo da realidade."
   ]
  },
  {
   "cell_type": "markdown",
   "id": "69684360",
   "metadata": {},
   "source": [
    "---"
   ]
  },
  {
   "cell_type": "markdown",
   "id": "928e746e",
   "metadata": {},
   "source": [
    "#### Etapa 8: Conclusão"
   ]
  },
  {
   "cell_type": "markdown",
   "id": "7ede6b21",
   "metadata": {},
   "source": [
    "##### Nesse projeto eu testei duas formas de modelar os dados, uma que aprendi a pouco tempo e a outra e a que eu mais utilizo, claro que na primeira, o individuo que me ensinou essa tecnica, deixou varias colunas de descrição,Ids... que no meu ponto de vista não acredito ser uteis para o modelo, pois ele pode considerar uma coisa que não é, mas tudo bem, estamos aqui aprender e por isso eu fiz das duas formas, para que tivesse essa base de qual era o melhor modelo, gostei do projeto e me divertir fazendo ele, foi um desafio trabalhar com tantos valores nulos, porém e algo gratificante, obrigado."
   ]
  },
  {
   "cell_type": "markdown",
   "id": "93474732",
   "metadata": {},
   "source": [
    "### FIM"
   ]
  }
 ],
 "metadata": {
  "kernelspec": {
   "display_name": "Python 3",
   "language": "python",
   "name": "python3"
  },
  "language_info": {
   "codemirror_mode": {
    "name": "ipython",
    "version": 3
   },
   "file_extension": ".py",
   "mimetype": "text/x-python",
   "name": "python",
   "nbconvert_exporter": "python",
   "pygments_lexer": "ipython3",
   "version": "3.8.8"
  }
 },
 "nbformat": 4,
 "nbformat_minor": 5
}
